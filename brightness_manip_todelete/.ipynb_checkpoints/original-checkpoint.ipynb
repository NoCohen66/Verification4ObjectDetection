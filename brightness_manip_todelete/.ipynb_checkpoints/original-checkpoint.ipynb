{
 "cells": [
  {
   "cell_type": "code",
   "execution_count": 1,
   "id": "abf70cfd",
   "metadata": {},
   "outputs": [],
   "source": [
    "import numpy as np\n",
    "from matplotlib import pyplot as plt\n",
    "from matplotlib.patches import Rectangle\n",
    "\n",
    "\n",
    "import torch \n",
    "import torch.nn.functional as F\n",
    "from torch import nn\n",
    "import pandas as pd"
   ]
  },
  {
   "cell_type": "code",
   "execution_count": 2,
   "id": "c52b035c",
   "metadata": {},
   "outputs": [],
   "source": [
    "class NeuralNetwork_BrightnessContrast(nn.Module):\n",
    "    '''\n",
    "    New model that takes as input a brightness or constrat value and apply it to a specific image\n",
    "    using the linear_perturbation layer\n",
    "    (aka the weight and biases of the linear_perturbation layer are set to specific values to encode\n",
    "    brightness or contrast for a specific image)\n",
    "    '''\n",
    "    def __init__(self, classif=True):\n",
    "        super(NeuralNetwork_BrightnessContrast, self).__init__()\n",
    "        \n",
    "        self.classif=classif\n",
    "        seed = 0\n",
    "        torch.manual_seed(seed)\n",
    "        padding = 1\n",
    "        \n",
    "        # create a linear layer that can be used either for brightness or contrast\n",
    "        self.linear_perturbation = nn.Linear(1,90*90)\n",
    "        \n",
    "        self.conv0 = nn.Conv2d(1, 16, 3, padding= padding) # 3x3 filters w/ same padding\n",
    "        self.pool0 = nn.MaxPool2d(2, stride=2)\n",
    "        #output shape : 15x15x16\n",
    "        self.conv1 = nn.Conv2d(16, 16, 3, padding= padding) # 3x3 filters w/ same padding\n",
    "        \n",
    "        #print(\"before self.conv1.weight\\n\",a)\n",
    "\n",
    "        \n",
    "        # Initializing the weights with the Xavier initialization method (equivalent to tf.keras.Initializers.glorot_uniform)\n",
    "        #nn.init.xavier_uniform(self.conv1.weight)\n",
    "        #print(\"after self.conv1.weight\\n\", b)\n",
    "\n",
    "        #output shape : 17x17x16 ((15 - 3 + 2*2)/1 + 1 )\n",
    "         #initialize to zeros \n",
    "        #nn.init.zeros_(self.conv1.weight)\n",
    "\n",
    "        self.pool1 = nn.MaxPool2d(2, stride=2)\n",
    "        #output shape : 8x8x16\n",
    "        self.flatten = nn.Flatten()\n",
    "        #output shape : 1024\n",
    "        #HERE CHECK RIGHT SIZE FROM FLATTEN TO LINEAR\n",
    "\n",
    "        self.linear_relu_stack= nn.Linear(7744,256)\n",
    "        if self.classif:\n",
    "            self.linear = nn.Linear(256, 10)\n",
    "        else:\n",
    "            self.linear_all = nn.Linear(256, 4) \n",
    "        \"\"\"\n",
    "        self.linear_x = nn.Linear(256, 1)\n",
    "        self.linear_y = nn.Linear(256, 1)\n",
    "        self.linear_all = nn.Linear(256, 2) \n",
    "        \"\"\"\n",
    "        #modifiy here, logits layer must return label, coordinates xmin,ymin,xmax,ymax\n",
    "        #self.linear_all = nn.Linear(256, 4) \n",
    "    \n",
    "    def forward(self, x):\n",
    "        x = self.linear_perturbation(x)\n",
    "        x = x.view((-1, 1, 90, 90))\n",
    "        x = self.conv0(x)\n",
    "        x = F.relu(self.pool0(x))\n",
    "        x = self.conv1(x)\n",
    "        x = F.relu(self.pool1(x))\n",
    "        x = self.flatten(x)\n",
    "        x = self.linear_relu_stack(x)\n",
    "        x= F.relu(x)\n",
    "        if self.classif:\n",
    "            logits = self.linear(x)\n",
    "        else:\n",
    "            logits = self.linear_all(x)\n",
    "\n",
    "        return logits#logits, x_min, y_min, x_max, y_max\n"
   ]
  },
  {
   "cell_type": "markdown",
   "id": "d8bac34c",
   "metadata": {},
   "source": [
    "## Digit model"
   ]
  },
  {
   "cell_type": "code",
   "execution_count": 3,
   "id": "592eca4d",
   "metadata": {},
   "outputs": [
    {
     "data": {
      "text/plain": [
       "<All keys matched successfully>"
      ]
     },
     "execution_count": 3,
     "metadata": {},
     "output_type": "execute_result"
    }
   ],
   "source": [
    "model_digit = NeuralNetwork_BrightnessContrast(classif=True)\n",
    "\n",
    "filename = 'toy_model_classif'\n",
    "model_torch_load  = torch.jit.load(f'{filename}.pt')\n",
    "digit_config = model_torch_load.state_dict()\n",
    "# we create values for the linear_perturbation parameters that will me set for brightness and contrast afterwards\n",
    "# if we don't create the keys in the dictionary, there is a key mismatch with the params dictionary of model_digit\n",
    "# that raise an error\n",
    "# For Noemie: you can try to comment the two next lines to see the error by yourself \n",
    "digit_config['linear_perturbation.weight']=torch.Tensor(np.zeros((90*90, 1), dtype='float32'))\n",
    "digit_config['linear_perturbation.bias']=torch.Tensor(np.zeros((90*90,), dtype='float32'))\n",
    "model_digit.load_state_dict(digit_config)\n",
    "#model_torch_load.state_dict()"
   ]
  },
  {
   "cell_type": "markdown",
   "id": "c035acf4",
   "metadata": {},
   "source": [
    "## Corner Model"
   ]
  },
  {
   "cell_type": "code",
   "execution_count": 4,
   "id": "804e9c51",
   "metadata": {},
   "outputs": [
    {
     "data": {
      "text/plain": [
       "<All keys matched successfully>"
      ]
     },
     "execution_count": 4,
     "metadata": {},
     "output_type": "execute_result"
    }
   ],
   "source": [
    "model_corners = NeuralNetwork_BrightnessContrast(classif=False)\n",
    "\n",
    "filename = 'toy_model_corners'\n",
    "model_torch_load  = torch.jit.load(f'{filename}.pt')\n",
    "corner_config = model_torch_load.state_dict()\n",
    "# we create values for the linear_perturbation parameters that will me set for brightness and contrast afterwards\n",
    "corner_config['linear_perturbation.weight']=torch.Tensor(np.zeros((90*90, 1), dtype='float32'))\n",
    "corner_config['linear_perturbation.bias']=torch.Tensor(np.zeros((90*90,), dtype='float32'))\n",
    "model_corners.load_state_dict(corner_config)\n",
    "#model_torch_load.state_dict()\n"
   ]
  },
  {
   "cell_type": "markdown",
   "id": "0bb48bc0",
   "metadata": {},
   "source": [
    "## Load Data"
   ]
  },
  {
   "cell_type": "code",
   "execution_count": 5,
   "id": "b31847ec",
   "metadata": {},
   "outputs": [],
   "source": [
    "from utils.model_func import *\n",
    "from torch.utils.data import DataLoader\n",
    "\n",
    "train_df = pd.read_csv(\"train.csv\")\n",
    "trainingData = CustomMnistDataset_OL(train_df)\n",
    "train_dataloader = DataLoader(trainingData, batch_size=1, shuffle=True)\n",
    "data = next(iter(train_dataloader))\n",
    "X_0, _ = data\n",
    "data = next(iter(train_dataloader))\n",
    "X_1, _ = data"
   ]
  },
  {
   "cell_type": "code",
   "execution_count": 6,
   "id": "a396272e",
   "metadata": {},
   "outputs": [],
   "source": [
    "# create brightness values\n",
    "brightness_range = np.asarray(np.linspace(0, 1, 11), 'float32')\n",
    "brightness_min = brightness_range[:-1]\n",
    "brightness_max = brightness_range[1:]\n",
    "\n",
    "brightness_center = (brightness_min+brightness_max)/2.\n",
    "eps_brightness = ((brightness_max-brightness_min)/2.).max()\n",
    "\n",
    "X_brightness = torch.Tensor(brightness_center[:,None])"
   ]
  },
  {
   "cell_type": "code",
   "execution_count": 7,
   "id": "ff1ff272",
   "metadata": {},
   "outputs": [],
   "source": [
    "# create brightness and contrast values\n",
    "contrast_range = np.asarray(np.linspace(0, 0.1, 11), 'float32')\n",
    "contrast_min = contrast_range[:-1]\n",
    "contrast_max = contrast_range[1:]\n",
    "\n",
    "contrast_center = (contrast_min+contrast_max)/2.\n",
    "eps_contrast = ((contrast_max-contrast_min)/2.).max()\n",
    "\n",
    "X_contrast = torch.Tensor(contrast_center[:,None])"
   ]
  },
  {
   "cell_type": "markdown",
   "id": "6479127c",
   "metadata": {},
   "source": [
    "## Brightness\n",
    "\n",
    "brightness(x; alpha)= x+ alpha\n",
    "\n",
    "thus for linear_perturbation\n",
    "\n",
    "linear_perturbation.weight = [1..1]\n",
    "\n",
    "linear_perturbation.weight = x"
   ]
  },
  {
   "cell_type": "markdown",
   "id": "ea45d9ef",
   "metadata": {},
   "source": [
    "## Contrast\n",
    "\n",
    "contrast(x; alpha)= x*alpha\n",
    "\n",
    "thus for linear_perturbation\n",
    "\n",
    "linear_perturbation.weight = x\n",
    "\n",
    "linear_perturbation.bias = [0..0]"
   ]
  },
  {
   "cell_type": "code",
   "execution_count": 8,
   "id": "fe57d32c",
   "metadata": {},
   "outputs": [],
   "source": [
    "def set_brightness(model, image):\n",
    "    # create a pytorch model for a specific flatten image\n",
    "    # once a model has been set for one images, you can call it for any brightness value\n",
    "    image_flatten = image.view((90*90,))\n",
    "    brightness_config = model.state_dict()\n",
    "    brightness_config['linear_perturbation.bias']=image_flatten\n",
    "    brightness_config['linear_perturbation.weight']=torch.Tensor(np.ones((90*90,1), dtype='float32'))\n",
    "    model.load_state_dict(brightness_config)\n",
    "    \n",
    "def set_contrast(model, image):\n",
    "    # create a pytorch model for a specific flatten image\n",
    "    # once a model has been set for one images, you can call it for any contrast value\n",
    "    image_flatten = image.view((90*90,))\n",
    "    contrast_config = model.state_dict()\n",
    "    contrast_config['linear_perturbation.bias']=torch.Tensor(np.zeros((90*90,1), dtype='float32'))\n",
    "    contrast_config['linear_perturbation.weight']=image_flatten\n",
    "    model.load_state_dict(contrast_config)\n",
    "    "
   ]
  },
  {
   "cell_type": "code",
   "execution_count": 9,
   "id": "e17b4ea7",
   "metadata": {},
   "outputs": [],
   "source": [
    "# we can check that the output of a model will be modified after calling the get_brightness method"
   ]
  },
  {
   "cell_type": "code",
   "execution_count": 10,
   "id": "fb1dbf5c",
   "metadata": {},
   "outputs": [
    {
     "data": {
      "text/plain": [
       "tensor([-10.0793,  16.3645,  -1.0624,  -6.1694,  -2.2533,  -0.0239,  -1.3484,\n",
       "         -1.0524,  -4.4216,  -1.7593], grad_fn=<SelectBackward>)"
      ]
     },
     "execution_count": 10,
     "metadata": {},
     "output_type": "execute_result"
    }
   ],
   "source": [
    "# before\n",
    "model_digit(X_brightness)[0]"
   ]
  },
  {
   "cell_type": "code",
   "execution_count": 11,
   "id": "417cd4ae",
   "metadata": {},
   "outputs": [],
   "source": [
    "set_brightness(model_digit, X_0)"
   ]
  },
  {
   "cell_type": "code",
   "execution_count": 12,
   "id": "32d5690a",
   "metadata": {},
   "outputs": [
    {
     "data": {
      "text/plain": [
       "tensor([  7.2144, -13.8783,   0.2897,  -3.5458,  -3.0024,   4.2169,   5.6756,\n",
       "        -10.8735,   7.1118,   0.2328], grad_fn=<SelectBackward>)"
      ]
     },
     "execution_count": 12,
     "metadata": {},
     "output_type": "execute_result"
    }
   ],
   "source": [
    "# after\n",
    "model_digit(X_brightness)[0]"
   ]
  },
  {
   "cell_type": "markdown",
   "id": "6948ad8f",
   "metadata": {},
   "source": [
    "## AutoLirpa on brightness"
   ]
  },
  {
   "cell_type": "code",
   "execution_count": 13,
   "id": "d48067cf",
   "metadata": {},
   "outputs": [],
   "source": [
    "from auto_LiRPA import BoundedModule, BoundedTensor, PerturbationLpNorm"
   ]
  },
  {
   "cell_type": "code",
   "execution_count": 14,
   "id": "a725bca2",
   "metadata": {},
   "outputs": [],
   "source": [
    "model_lirpa_digit = BoundedModule(model_digit, X_brightness)"
   ]
  },
  {
   "cell_type": "code",
   "execution_count": 15,
   "id": "06774316",
   "metadata": {},
   "outputs": [
    {
     "name": "stdout",
     "output_type": "stream",
     "text": [
      "tensor([ 10.9564, -11.1235,   2.2372,  -0.6280,  -1.0892,   6.9116,  10.5795,\n",
      "         -7.5287,  10.4213,   2.1164], grad_fn=<SelectBackward>) tensor([  3.3698, -15.5513,  -1.4598,  -8.5752,  -5.9979,   2.3031,   1.7637,\n",
      "        -15.2940,   4.1382,  -1.6813], grad_fn=<SelectBackward>)\n"
     ]
    }
   ],
   "source": [
    "ptb_brightness = PerturbationLpNorm(norm=np.inf, eps=0.001)\n",
    "input_lirpa_brightness = BoundedTensor(X_brightness, ptb_brightness)\n",
    "\n",
    "lb_brightness, ub_brightness = model_lirpa_digit.compute_bounds(x=(input_lirpa_brightness,),\n",
    "                                                    IBP=True, method='crown')\n",
    "print(ub_brightness[0], lb_brightness[0])"
   ]
  },
  {
   "cell_type": "code",
   "execution_count": 16,
   "id": "01371130",
   "metadata": {},
   "outputs": [],
   "source": [
    "# if you set a new image, the model_lirpa_digit will be upated dynamically\n",
    "set_brightness(model_digit, X_1)"
   ]
  },
  {
   "cell_type": "code",
   "execution_count": 17,
   "id": "47f1c51d",
   "metadata": {},
   "outputs": [
    {
     "name": "stdout",
     "output_type": "stream",
     "text": [
      "tensor([11.6922, -5.7182,  1.3518, -2.3772,  3.0576, -1.9108,  5.6426, -0.2677,\n",
      "         6.4902,  5.2616], grad_fn=<SelectBackward>) tensor([  3.3078, -11.9998,  -3.0018, -10.9324,  -1.9697,  -6.7597,  -3.5311,\n",
      "         -8.1679,  -0.3042,   1.0831], grad_fn=<SelectBackward>)\n"
     ]
    }
   ],
   "source": [
    "ptb_brightness = PerturbationLpNorm(norm=np.inf, eps=0.001)\n",
    "input_lirpa_brightness = BoundedTensor(X_brightness, ptb_brightness)\n",
    "\n",
    "lb_brightness, ub_brightness = model_lirpa_digit.compute_bounds(x=(input_lirpa_brightness,),\n",
    "                                                    IBP=True, method='crown')\n",
    "print(ub_brightness[0], lb_brightness[0])"
   ]
  },
  {
   "cell_type": "code",
   "execution_count": null,
   "id": "97966649",
   "metadata": {},
   "outputs": [],
   "source": []
  },
  {
   "cell_type": "code",
   "execution_count": null,
   "id": "6dd99dd6",
   "metadata": {},
   "outputs": [],
   "source": []
  },
  {
   "cell_type": "markdown",
   "id": "170b8ded",
   "metadata": {},
   "source": [
    "# Verification in pytorch"
   ]
  },
  {
   "cell_type": "code",
   "execution_count": 99,
   "id": "1f14a2aa",
   "metadata": {},
   "outputs": [],
   "source": [
    "from auto_LiRPA import BoundedModule, BoundedTensor, PerturbationLpNorm"
   ]
  },
  {
   "cell_type": "code",
   "execution_count": 100,
   "id": "9234cec9",
   "metadata": {},
   "outputs": [],
   "source": [
    "brightness_range = np.asarray(np.linspace(0, 1, 11), 'float32')\n",
    "brightness_min = brightness_range[:-1]\n",
    "brightness_max = brightness_range[1:]\n",
    "\n",
    "brightness_center = (brightness_min+brightness_max)/2.\n",
    "eps = (brightness_max-brightness_min)/2."
   ]
  },
  {
   "cell_type": "code",
   "execution_count": 101,
   "id": "9a1887c0",
   "metadata": {},
   "outputs": [],
   "source": [
    "X_lirpa = torch.from_numpy(brightness_center[:,None]).float().to('cpu')\n",
    "\n"
   ]
  },
  {
   "cell_type": "code",
   "execution_count": 102,
   "id": "689a0a9f",
   "metadata": {},
   "outputs": [
    {
     "data": {
      "text/plain": [
       "torch.Size([10, 1])"
      ]
     },
     "execution_count": 102,
     "metadata": {},
     "output_type": "execute_result"
    }
   ],
   "source": [
    "X_lirpa.size()"
   ]
  },
  {
   "cell_type": "code",
   "execution_count": 103,
   "id": "59d22444",
   "metadata": {},
   "outputs": [
    {
     "ename": "AttributeError",
     "evalue": "'View' object has no attribute '_backward_hooks'",
     "output_type": "error",
     "traceback": [
      "\u001b[0;31m---------------------------------------------------------------------------\u001b[0m",
      "\u001b[0;31mAttributeError\u001b[0m                            Traceback (most recent call last)",
      "\u001b[0;32m/var/folders/mv/rks11p6n68n4p1fqvdm9z5_w0000gn/T/ipykernel_23581/3143869915.py\u001b[0m in \u001b[0;36m<module>\u001b[0;34m\u001b[0m\n\u001b[0;32m----> 1\u001b[0;31m \u001b[0mmodel_digit\u001b[0m\u001b[0;34m(\u001b[0m\u001b[0mX_lirpa\u001b[0m\u001b[0;34m)\u001b[0m\u001b[0;34m\u001b[0m\u001b[0;34m\u001b[0m\u001b[0m\n\u001b[0m",
      "\u001b[0;32m~/miniconda3/envs/my-torch/lib/python3.7/site-packages/torch/nn/modules/module.py\u001b[0m in \u001b[0;36m_call_impl\u001b[0;34m(self, *input, **kwargs)\u001b[0m\n\u001b[1;32m    887\u001b[0m             \u001b[0mresult\u001b[0m \u001b[0;34m=\u001b[0m \u001b[0mself\u001b[0m\u001b[0;34m.\u001b[0m\u001b[0m_slow_forward\u001b[0m\u001b[0;34m(\u001b[0m\u001b[0;34m*\u001b[0m\u001b[0minput\u001b[0m\u001b[0;34m,\u001b[0m \u001b[0;34m**\u001b[0m\u001b[0mkwargs\u001b[0m\u001b[0;34m)\u001b[0m\u001b[0;34m\u001b[0m\u001b[0;34m\u001b[0m\u001b[0m\n\u001b[1;32m    888\u001b[0m         \u001b[0;32melse\u001b[0m\u001b[0;34m:\u001b[0m\u001b[0;34m\u001b[0m\u001b[0;34m\u001b[0m\u001b[0m\n\u001b[0;32m--> 889\u001b[0;31m             \u001b[0mresult\u001b[0m \u001b[0;34m=\u001b[0m \u001b[0mself\u001b[0m\u001b[0;34m.\u001b[0m\u001b[0mforward\u001b[0m\u001b[0;34m(\u001b[0m\u001b[0;34m*\u001b[0m\u001b[0minput\u001b[0m\u001b[0;34m,\u001b[0m \u001b[0;34m**\u001b[0m\u001b[0mkwargs\u001b[0m\u001b[0;34m)\u001b[0m\u001b[0;34m\u001b[0m\u001b[0;34m\u001b[0m\u001b[0m\n\u001b[0m\u001b[1;32m    890\u001b[0m         for hook in itertools.chain(\n\u001b[1;32m    891\u001b[0m                 \u001b[0m_global_forward_hooks\u001b[0m\u001b[0;34m.\u001b[0m\u001b[0mvalues\u001b[0m\u001b[0;34m(\u001b[0m\u001b[0;34m)\u001b[0m\u001b[0;34m,\u001b[0m\u001b[0;34m\u001b[0m\u001b[0;34m\u001b[0m\u001b[0m\n",
      "\u001b[0;32m/var/folders/mv/rks11p6n68n4p1fqvdm9z5_w0000gn/T/ipykernel_23581/999497644.py\u001b[0m in \u001b[0;36mforward\u001b[0;34m(self, x)\u001b[0m\n\u001b[1;32m     61\u001b[0m     \u001b[0;32mdef\u001b[0m \u001b[0mforward\u001b[0m\u001b[0;34m(\u001b[0m\u001b[0mself\u001b[0m\u001b[0;34m,\u001b[0m \u001b[0mx\u001b[0m\u001b[0;34m)\u001b[0m\u001b[0;34m:\u001b[0m\u001b[0;34m\u001b[0m\u001b[0;34m\u001b[0m\u001b[0m\n\u001b[1;32m     62\u001b[0m         \u001b[0mx\u001b[0m \u001b[0;34m=\u001b[0m \u001b[0mself\u001b[0m\u001b[0;34m.\u001b[0m\u001b[0mlinear_perturbation\u001b[0m\u001b[0;34m(\u001b[0m\u001b[0mx\u001b[0m\u001b[0;34m)\u001b[0m\u001b[0;34m\u001b[0m\u001b[0;34m\u001b[0m\u001b[0m\n\u001b[0;32m---> 63\u001b[0;31m         \u001b[0mx\u001b[0m \u001b[0;34m=\u001b[0m \u001b[0mself\u001b[0m\u001b[0;34m.\u001b[0m\u001b[0mreshape\u001b[0m\u001b[0;34m(\u001b[0m\u001b[0mx\u001b[0m\u001b[0;34m)\u001b[0m\u001b[0;34m\u001b[0m\u001b[0;34m\u001b[0m\u001b[0m\n\u001b[0m\u001b[1;32m     64\u001b[0m \u001b[0;34m\u001b[0m\u001b[0m\n\u001b[1;32m     65\u001b[0m         \u001b[0mx\u001b[0m \u001b[0;34m=\u001b[0m \u001b[0mself\u001b[0m\u001b[0;34m.\u001b[0m\u001b[0mconv0\u001b[0m\u001b[0;34m(\u001b[0m\u001b[0mx\u001b[0m\u001b[0;34m)\u001b[0m\u001b[0;34m\u001b[0m\u001b[0;34m\u001b[0m\u001b[0m\n",
      "\u001b[0;32m~/miniconda3/envs/my-torch/lib/python3.7/site-packages/torch/nn/modules/module.py\u001b[0m in \u001b[0;36m_call_impl\u001b[0;34m(self, *input, **kwargs)\u001b[0m\n\u001b[1;32m    867\u001b[0m         \u001b[0;31m# Do not call functions when jit is used\u001b[0m\u001b[0;34m\u001b[0m\u001b[0;34m\u001b[0m\u001b[0;34m\u001b[0m\u001b[0m\n\u001b[1;32m    868\u001b[0m         \u001b[0mfull_backward_hooks\u001b[0m\u001b[0;34m,\u001b[0m \u001b[0mnon_full_backward_hooks\u001b[0m \u001b[0;34m=\u001b[0m \u001b[0;34m[\u001b[0m\u001b[0;34m]\u001b[0m\u001b[0;34m,\u001b[0m \u001b[0;34m[\u001b[0m\u001b[0;34m]\u001b[0m\u001b[0;34m\u001b[0m\u001b[0;34m\u001b[0m\u001b[0m\n\u001b[0;32m--> 869\u001b[0;31m         \u001b[0;32mif\u001b[0m \u001b[0mlen\u001b[0m\u001b[0;34m(\u001b[0m\u001b[0mself\u001b[0m\u001b[0;34m.\u001b[0m\u001b[0m_backward_hooks\u001b[0m\u001b[0;34m)\u001b[0m \u001b[0;34m>\u001b[0m \u001b[0;36m0\u001b[0m \u001b[0;32mor\u001b[0m \u001b[0mlen\u001b[0m\u001b[0;34m(\u001b[0m\u001b[0m_global_backward_hooks\u001b[0m\u001b[0;34m)\u001b[0m \u001b[0;34m>\u001b[0m \u001b[0;36m0\u001b[0m\u001b[0;34m:\u001b[0m\u001b[0;34m\u001b[0m\u001b[0;34m\u001b[0m\u001b[0m\n\u001b[0m\u001b[1;32m    870\u001b[0m             \u001b[0mfull_backward_hooks\u001b[0m\u001b[0;34m,\u001b[0m \u001b[0mnon_full_backward_hooks\u001b[0m \u001b[0;34m=\u001b[0m \u001b[0mself\u001b[0m\u001b[0;34m.\u001b[0m\u001b[0m_get_backward_hooks\u001b[0m\u001b[0;34m(\u001b[0m\u001b[0;34m)\u001b[0m\u001b[0;34m\u001b[0m\u001b[0;34m\u001b[0m\u001b[0m\n\u001b[1;32m    871\u001b[0m \u001b[0;34m\u001b[0m\u001b[0m\n",
      "\u001b[0;32m~/miniconda3/envs/my-torch/lib/python3.7/site-packages/torch/nn/modules/module.py\u001b[0m in \u001b[0;36m__getattr__\u001b[0;34m(self, name)\u001b[0m\n\u001b[1;32m    946\u001b[0m                 \u001b[0;32mreturn\u001b[0m \u001b[0mmodules\u001b[0m\u001b[0;34m[\u001b[0m\u001b[0mname\u001b[0m\u001b[0;34m]\u001b[0m\u001b[0;34m\u001b[0m\u001b[0;34m\u001b[0m\u001b[0m\n\u001b[1;32m    947\u001b[0m         raise AttributeError(\"'{}' object has no attribute '{}'\".format(\n\u001b[0;32m--> 948\u001b[0;31m             type(self).__name__, name))\n\u001b[0m\u001b[1;32m    949\u001b[0m \u001b[0;34m\u001b[0m\u001b[0m\n\u001b[1;32m    950\u001b[0m     \u001b[0;32mdef\u001b[0m \u001b[0m__setattr__\u001b[0m\u001b[0;34m(\u001b[0m\u001b[0mself\u001b[0m\u001b[0;34m,\u001b[0m \u001b[0mname\u001b[0m\u001b[0;34m:\u001b[0m \u001b[0mstr\u001b[0m\u001b[0;34m,\u001b[0m \u001b[0mvalue\u001b[0m\u001b[0;34m:\u001b[0m \u001b[0mUnion\u001b[0m\u001b[0;34m[\u001b[0m\u001b[0mTensor\u001b[0m\u001b[0;34m,\u001b[0m \u001b[0;34m'Module'\u001b[0m\u001b[0;34m]\u001b[0m\u001b[0;34m)\u001b[0m \u001b[0;34m->\u001b[0m \u001b[0;32mNone\u001b[0m\u001b[0;34m:\u001b[0m\u001b[0;34m\u001b[0m\u001b[0;34m\u001b[0m\u001b[0m\n",
      "\u001b[0;31mAttributeError\u001b[0m: 'View' object has no attribute '_backward_hooks'"
     ]
    }
   ],
   "source": [
    "model_digit(X_lirpa)"
   ]
  },
  {
   "cell_type": "code",
   "execution_count": null,
   "id": "4ed6814a",
   "metadata": {},
   "outputs": [],
   "source": []
  },
  {
   "cell_type": "code",
   "execution_count": 11,
   "id": "4c32c43a",
   "metadata": {},
   "outputs": [],
   "source": [
    "X_L = X.numpy().astype('float32')\n"
   ]
  },
  {
   "cell_type": "code",
   "execution_count": 12,
   "id": "f388b559",
   "metadata": {},
   "outputs": [],
   "source": [
    "X_lirpa = torch.from_numpy(X_L).float().to('cpu')\n",
    "\n",
    "mask = np.sign(X_lirpa[0])\n",
    "lb_ = 0.*X_lirpa\n",
    "ub_ = mask\n",
    "eps=0.\n",
    "\n",
    "model_lirpa_digit = BoundedModule(model_digit, X_lirpa)\n",
    "x_min = X_lirpa - eps*mask\n",
    "x_max = X_lirpa + eps*mask\n",
    "\n",
    "ptb = PerturbationLpNorm(norm=np.inf, eps=eps, x_L=x_min, x_U=x_max)\n",
    "input_lirpa = BoundedTensor(X_lirpa, ptb)\n",
    "\n"
   ]
  },
  {
   "cell_type": "code",
   "execution_count": 13,
   "id": "4443f380",
   "metadata": {},
   "outputs": [],
   "source": [
    "adv_c = torch.eye(10).type_as(X_lirpa)[5].unsqueeze(1) - torch.eye(10).type_as(X_lirpa).unsqueeze(0)"
   ]
  },
  {
   "cell_type": "code",
   "execution_count": 14,
   "id": "a5a42002",
   "metadata": {},
   "outputs": [
    {
     "data": {
      "text/plain": [
       "tensor([[[-1.,  0.,  0.,  0.,  0.,  0.,  0.,  0.,  0.,  0.],\n",
       "         [ 0., -1.,  0.,  0.,  0.,  0.,  0.,  0.,  0.,  0.],\n",
       "         [ 0.,  0., -1.,  0.,  0.,  0.,  0.,  0.,  0.,  0.],\n",
       "         [ 0.,  0.,  0., -1.,  0.,  0.,  0.,  0.,  0.,  0.],\n",
       "         [ 0.,  0.,  0.,  0., -1.,  0.,  0.,  0.,  0.,  0.],\n",
       "         [ 1.,  1.,  1.,  1.,  1.,  0.,  1.,  1.,  1.,  1.],\n",
       "         [ 0.,  0.,  0.,  0.,  0.,  0., -1.,  0.,  0.,  0.],\n",
       "         [ 0.,  0.,  0.,  0.,  0.,  0.,  0., -1.,  0.,  0.],\n",
       "         [ 0.,  0.,  0.,  0.,  0.,  0.,  0.,  0., -1.,  0.],\n",
       "         [ 0.,  0.,  0.,  0.,  0.,  0.,  0.,  0.,  0., -1.]]])"
      ]
     },
     "execution_count": 14,
     "metadata": {},
     "output_type": "execute_result"
    }
   ],
   "source": [
    "adv_c"
   ]
  },
  {
   "cell_type": "code",
   "execution_count": null,
   "id": "7319ba4b",
   "metadata": {},
   "outputs": [],
   "source": []
  },
  {
   "cell_type": "markdown",
   "id": "5b6c8fb7",
   "metadata": {},
   "source": [
    "## IOU IBP"
   ]
  },
  {
   "cell_type": "code",
   "execution_count": 30,
   "id": "6b850276",
   "metadata": {},
   "outputs": [],
   "source": [
    "# ranges of values over the input coordinates\n",
    "\n",
    "def iou(box, gt):\n",
    "    \n",
    "    # box_pred [None, 4:x_min, y_min, x_max, y_max]\n",
    "    # box_gt   [None, 4:x_min^GT, y_min^GT, x_max^GT, y_max^GT]\n",
    "    \n",
    "    x_min = np.maximum(gt[:, 0], box[:, 0])\n",
    "    y_min = np.maximum(gt[:, 1], box[:, 1])\n",
    "    x_max = np.minimum(gt[:, 2], box[:, 2])\n",
    "    y_max = np.minimum(gt[:, 3], box[:, 3])\n",
    "    inter_area = np.maximum(0, x_max-x_min)*np.maximum(0,y_max-y_min)\n",
    "    gt_area = (gt[:, 3]-gt[:, 1])*(gt[:, 2]-gt[:, 0])\n",
    "    box_area = (box[:, 3]-box[:, 1])*(box[:, 2]-box[:, 0])\n",
    "    \n",
    "    return inter_area/np.maximum(gt_area+box_area-inter_area, 1e-4)\n",
    "\n",
    "def argmax_iou(inputs, gt_boxes):\n",
    "    # inputs= [[None, 4:x_min, y_min, x_max, y_max]]*2\n",
    "    # gt_box [None, 4:_min, y_min, x_max, y_max]\n",
    "    \n",
    "    # compute maximum: closer to gt_boxes\n",
    "    x_min = inputs[1]\n",
    "    x_max = np.maximum(inputs[0], x_min)\n",
    "    \n",
    "    # by construction x_min <x_max\n",
    "    \n",
    "    \n",
    "    # check gt_boxes in the range [x_min, x_max]\n",
    "    dist_x_min = np.maximum(gt_boxes-x_min, 0.) # >0 if gt >x_min\n",
    "    dist_x_max = np.maximum(x_max-gt_boxes, 0.) # >0 if x_max > gt\n",
    "    mask_in_range = np.sign(np.minimum(dist_x_min,dist_x_max)) # >0 if x_min<gt<x_max\n",
    "    mask_min = 1 - np.sign(dist_x_min) # closer to lower bound (=x_min)\n",
    "    mask_max = 1 - np.sign(dist_x_max) # closer to upper bound (=x_max)\n",
    "    \n",
    "    sample_max = mask_in_range*gt_boxes + mask_min*x_min + (1-mask_min)*mask_max*x_max\n",
    "    \n",
    "    return sample_max, iou(sample_max, gt_boxes)\n",
    "\n",
    "def get_binomial_matrix():\n",
    "    matrix = np.zeros((2, 2, 2, 2, 4))\n",
    "    for i_0 in range(2):\n",
    "        for i_1 in range(2):\n",
    "            for i_2 in range(2):\n",
    "                for i_3 in range(2):\n",
    "                    matrix[i_0, i_1, i_2, i_3, 0]=i_0\n",
    "                    matrix[i_0, i_1, i_2, i_3, 1]=i_1\n",
    "                    matrix[i_0, i_1, i_2, i_3, 2]=i_2\n",
    "                    matrix[i_0, i_1, i_2, i_3, 3]=i_3\n",
    "                    \n",
    "    return matrix.reshape((16, 4))\n",
    "\n",
    "def argmin_iou(inputs, gt_boxes):\n",
    "    \n",
    "    # compute maximum: closer to gt_boxes\n",
    "    x_min = inputs[1] \n",
    "    x_max = np.maximum(inputs[0], x_min)\n",
    "\n",
    "    # check if there is an overlapping in one dimension; hence iou=0\n",
    "    overlapping_x = np.sign(np.maximum(x_max[:, 0]-x_min[:, 2], 0)) # >0 if x_0_max>x_1_min\n",
    "    overlapping_y = np.sign(np.maximum(x_max[:, 1]-x_min[:, 3], 0)) # >0 if y_0_max > y_1_min\n",
    "    \n",
    "    pt_corners_x = x_min + 0.\n",
    "    pt_corners_x[:, 2]= x_max[:, 0] #(=u_0)\n",
    "    pt_corners_y = x_min + 0.\n",
    "    pt_corners_y[:, 3]= x_max[:, 1]\n",
    "        \n",
    "    \n",
    "    \n",
    "    # compute the iou of every corners= 16 samples (others have been discarded)\n",
    "    matrix = get_binomial_matrix() # (16, 4)\n",
    "    corners = np.reshape(matrix[None]*x_min + (1-matrix[None])*x_max, (-1, 4))\n",
    "    \n",
    "    gt_repeat = np.reshape(np.repeat(gt_boxes[:, None], 16, 1), (-1, 4))\n",
    "    \n",
    "    \n",
    "    ious = iou(corners,\\\n",
    "               gt_repeat)\n",
    "    ious = np.reshape(ious, (-1, 16))\n",
    "    index_min = np.argmin(ious, -1)\n",
    "    \n",
    "    # consider edge cases with overlapping\n",
    "    corners = np.reshape(corners, (-1, 16, 4))\n",
    "    # (None, 4)\n",
    "    corner_min = corners[np.arange(len(index_min)), index_min[np.arange(len(index_min))]]\n",
    "    # (None, 1)\n",
    "    iou_min = ious[np.arange(len(index_min)), index_min[np.arange(len(index_min))]]\n",
    "    \n",
    "    mask_edge = 1 - np.maximum(overlapping_x, overlapping_y)\n",
    "    \n",
    "    return mask_edge*corner_min + overlapping_x*pt_corners_x + (1-overlapping_x)*overlapping_y*pt_corners_y,\\\n",
    "           mask_edge*iou_min"
   ]
  },
  {
   "cell_type": "code",
   "execution_count": null,
   "id": "5318b88b",
   "metadata": {},
   "outputs": [],
   "source": [
    "def bound_iou(X_L, eps=1., label=5):\n",
    "    \n",
    "    X_lirpa = torch.from_numpy(X_L).float().to('cpu')\n",
    "\n",
    "    mask = np.sign(X_lirpa[0])\n",
    "    lb_ = 0.*X_lirpa\n",
    "    ub_ = mask\n",
    "\n",
    "    model_lirpa_corner = BoundedModule(model_box, X_lirpa)\n",
    "    model_lirpa_digit = BoundedModule(model_digit, X_lirpa)\n",
    "\n",
    "    x_min = X_lirpa - eps*mask\n",
    "    x_max = X_lirpa + eps*mask\n",
    "\n",
    "    ptb = PerturbationLpNorm(norm=np.inf, eps=eps, x_L=x_min, x_U=x_max)\n",
    "    input_lirpa = BoundedTensor(X_lirpa, ptb)\n",
    "\n",
    "    lb_box, ub_box = model_lirpa_corner.compute_bounds(x=(input_lirpa,),\n",
    "                                                       IBP=True, method='crown')\n",
    "    lb_adv, ub_adv = model_lirpa_digit.compute_bounds(x=(input_lirpa,),\n",
    "                                                       IBP=True, method='crown')\n",
    "    \n",
    "    score_adv = ((ub_adv - lb_adv[0,5])[0,np.array([i for i in range(10) if i!=5])]).max()\n",
    "    _, iou_min = argmin_iou([ub_box.detach().numpy(), lb_box.detach().numpy()],\n",
    "                              y[1].detach().numpy())\n",
    "\n",
    "    \n",
    "    return iou_min, score_adv.detach().numpy()"
   ]
  },
  {
   "cell_type": "code",
   "execution_count": 22,
   "id": "1acc8dc4",
   "metadata": {},
   "outputs": [],
   "source": [
    "iou_min_list=[]\n",
    "adv_list=[]\n",
    "eps_list = [eps_i for eps_i in range(1,20)]\n",
    "for eps_i in eps_list:\n",
    "    eps_=eps_i/255.\n",
    "    iou_min, adv_score = bound_iou(X_L, eps=eps_)\n",
    "    iou_min_list.append(iou_min)\n",
    "    adv_list.append(adv_score)"
   ]
  },
  {
   "cell_type": "code",
   "execution_count": 23,
   "id": "b78a51cb",
   "metadata": {},
   "outputs": [],
   "source": [
    "# put some colors when we are not sure for the classification !!!!"
   ]
  },
  {
   "cell_type": "code",
   "execution_count": 28,
   "id": "1138cbf4",
   "metadata": {},
   "outputs": [
    {
     "data": {
      "text/plain": [
       "Text(0, 0.5, 'Worst case IOU')"
      ]
     },
     "execution_count": 28,
     "metadata": {},
     "output_type": "execute_result"
    },
    {
     "data": {
      "image/png": "[encoded data removed]",
      "text/plain": [
       "<Figure size 640x480 with 1 Axes>"
      ]
     },
     "metadata": {},
     "output_type": "display_data"
    }
   ],
   "source": [
    "# robust_list\n",
    "eps_safe=[]\n",
    "eps_unsafe=[]\n",
    "iou_safe=[]\n",
    "iou_unsafe=[]\n",
    "for (eps_i, iou_i, adv_i) in zip(eps_list, iou_min_list, adv_list):\n",
    "    if adv_i <0:\n",
    "        eps_safe.append(eps_i)\n",
    "        iou_safe.append(iou_i)\n",
    "    else:\n",
    "        eps_unsafe.append(eps_i)\n",
    "        iou_unsafe.append(iou_i)\n",
    "\n",
    "if len(eps_safe):\n",
    "    plt.plot(eps_safe, iou_safe, c='green')\n",
    "    plt.plot([eps_safe[-1]]+eps_unsafe, [iou_safe[-1]]+iou_unsafe, c='red')\n",
    "    plt.legend(['Robust Label', 'Maybe Not Robust Label'])\n",
    "else:\n",
    "    plt.plot(eps_unsafe, iou_unsafe, c='red')\n",
    "    plt.legend(['Maybe Not Robust Label'])\n",
    "\n",
    "\n",
    "plt.xlabel('pixel perturbation')\n",
    "plt.ylabel('Worst case IOU')"
   ]
  }
 ],
 "metadata": {
  "kernelspec": {
   "display_name": "Python 3 (ipykernel)",
   "language": "python",
   "name": "python3"
  },
  "language_info": {
   "codemirror_mode": {
    "name": "ipython",
    "version": 3
   },
   "file_extension": ".py",
   "mimetype": "text/x-python",
   "name": "python",
   "nbconvert_exporter": "python",
   "pygments_lexer": "ipython3",
   "version": "3.7.13"
  }
 },
 "nbformat": 4,
 "nbformat_minor": 5
}
