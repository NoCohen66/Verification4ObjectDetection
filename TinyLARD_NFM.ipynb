{
 "cells": [
  {
   "cell_type": "markdown",
   "id": "a455adab",
   "metadata": {},
   "source": [
    "### Imports"
   ]
  },
  {
   "cell_type": "code",
   "execution_count": 56,
   "id": "dc20dae8",
   "metadata": {},
   "outputs": [],
   "source": [
    "#from torchdata.datapipes.iter import IterableWrapper, S3FileLoader # !pip install torchdata\n",
    "#from torch.utils.data import Dataset,DataLoader\n",
    "import torchvision\n",
    "from PIL import Image\n",
    "#import io\n",
    "import numpy as np\n",
    "import matplotlib.pyplot as plt\n",
    "import matplotlib.patches as patches\n",
    "import torch\n",
    "#from torchvision import transforms\n",
    "import torchvision.ops as ops\n",
    "import pandas as pd\n",
    "\n",
    "import torch\n",
    "import torch.nn as nn\n",
    "\n",
    "import pickle as pkl\n",
    "from contextlib import closing\n",
    "\n",
    "device = torch.device(\"cuda:0\" if torch.cuda.is_available() else \"cpu\")"
   ]
  },
  {
   "cell_type": "markdown",
   "id": "20185365",
   "metadata": {},
   "source": [
    "## Load Data"
   ]
  },
  {
   "cell_type": "code",
   "execution_count": null,
   "id": "32df716a-f0a6-4e56-8628-761753869d4c",
   "metadata": {},
   "outputs": [],
   "source": []
  },
  {
   "cell_type": "code",
   "execution_count": 100,
   "id": "ff4f19fb",
   "metadata": {},
   "outputs": [],
   "source": [
    "with closing((open('detection/LARD/lard_nfm_data_iou.pkl', 'rb'))) as f:\n",
    "             dico_dataset = pkl.load(f)\n",
    "\n",
    "X_train = dico_dataset['x_train']\n",
    "X_test = dico_dataset['x_test']\n",
    "Y_train = dico_dataset['y_train']\n",
    "Y_test = dico_dataset['y_test']\n",
    "\n",
    "X_train_ = torch.Tensor(X_train).to(device)\n",
    "X_test_ = torch.Tensor(X_test).to(device)\n",
    "Y_train_ = torch.Tensor(Y_train).to(device)\n",
    "Y_test_ = torch.Tensor(Y_test).to(device)"
   ]
  },
  {
   "cell_type": "code",
   "execution_count": 101,
   "id": "d1b311a8-12bd-41b2-b53f-93740c47a224",
   "metadata": {},
   "outputs": [
    {
     "data": {
      "text/plain": [
       "{'x_train': array([[[[107, 107, 107, ...,  86,  86,  86],\n",
       "          [108, 108, 107, ...,  86,  86,  86],\n",
       "          [108, 108, 108, ...,  87,  87,  86],\n",
       "          ...,\n",
       "          [119, 129, 136, ...,  97,  95,  91],\n",
       "          [135, 137, 151, ..., 109, 111, 113],\n",
       "          [135, 140, 167, ..., 127, 125, 126]],\n",
       " \n",
       "         [[159, 159, 159, ..., 133, 133, 133],\n",
       "          [160, 160, 159, ..., 133, 132, 133],\n",
       "          [160, 160, 160, ..., 134, 134, 133],\n",
       "          ...,\n",
       "          [105, 119, 128, ...,  85,  87,  84],\n",
       "          [124, 126, 141, ...,  88,  93,  92],\n",
       "          [123, 127, 155, ..., 101, 100, 100]],\n",
       " \n",
       "         [[234, 234, 234, ..., 216, 216, 215],\n",
       "          [234, 234, 234, ..., 216, 216, 216],\n",
       "          [235, 235, 235, ..., 216, 216, 215],\n",
       "          ...,\n",
       "          [103, 112, 117, ...,  88,  90,  87],\n",
       "          [114, 116, 130, ...,  92,  95,  95],\n",
       "          [114, 118, 147, ..., 103, 101, 101]]],\n",
       " \n",
       " \n",
       "        [[[ 93,  93,  93, ..., 114, 115, 115],\n",
       "          [ 94,  94,  94, ..., 115, 115, 115],\n",
       "          [ 94,  94,  94, ..., 116, 116, 116],\n",
       "          ...,\n",
       "          [144, 120, 134, ...,  35,  27,  25],\n",
       "          [126, 122, 133, ...,  63,  52,  37],\n",
       "          [114, 107, 103, ..., 103,  75,  78]],\n",
       " \n",
       "         [[141, 141, 141, ..., 167, 168, 168],\n",
       "          [142, 142, 142, ..., 168, 168, 168],\n",
       "          [142, 142, 142, ..., 169, 169, 169],\n",
       "          ...,\n",
       "          [118,  99, 113, ...,  40,  35,  34],\n",
       "          [104, 104, 113, ...,  62,  55,  43],\n",
       "          [101,  94,  88, ...,  99,  73,  79]],\n",
       " \n",
       "         [[223, 223, 223, ..., 237, 237, 237],\n",
       "          [224, 224, 224, ..., 238, 237, 238],\n",
       "          [223, 223, 223, ..., 237, 237, 237],\n",
       "          ...,\n",
       "          [114, 105, 116, ...,  70,  67,  67],\n",
       "          [107, 110, 116, ...,  86,  80,  74],\n",
       "          [113, 108, 101, ..., 108,  91,  98]]],\n",
       " \n",
       " \n",
       "        [[[ 93,  93,  93, ..., 107, 108, 108],\n",
       "          [ 94,  94,  94, ..., 108, 108, 108],\n",
       "          [ 94,  94,  94, ..., 109, 109, 109],\n",
       "          ...,\n",
       "          [118, 140, 134, ..., 167, 175, 180],\n",
       "          [125, 106,  95, ..., 161, 163, 156],\n",
       "          [ 96,  78,  96, ..., 163, 161, 158]],\n",
       " \n",
       "         [[141, 141, 141, ..., 159, 160, 160],\n",
       "          [142, 142, 142, ..., 160, 160, 160],\n",
       "          [142, 142, 142, ..., 161, 161, 161],\n",
       "          ...,\n",
       "          [ 93, 110, 105, ..., 133, 141, 145],\n",
       "          [ 98,  83,  74, ..., 126, 128, 122],\n",
       "          [ 71,  64,  81, ..., 129, 127, 126]],\n",
       " \n",
       "         [[223, 223, 223, ..., 234, 234, 234],\n",
       "          [223, 223, 223, ..., 235, 235, 235],\n",
       "          [223, 223, 223, ..., 234, 234, 234],\n",
       "          ...,\n",
       "          [100, 110, 105, ..., 122, 131, 135],\n",
       "          [102,  91,  87, ..., 117, 121, 114],\n",
       "          [ 83,  82,  99, ..., 117, 117, 115]]],\n",
       " \n",
       " \n",
       "        ...,\n",
       " \n",
       " \n",
       "        [[[ 92,  92,  92, ...,  91,  91,  91],\n",
       "          [ 93,  93,  93, ...,  91,  91,  92],\n",
       "          [ 93,  93,  93, ...,  92,  92,  92],\n",
       "          ...,\n",
       "          [  8,   7,   7, ...,   8,   8,   9],\n",
       "          [  7,   7,   7, ...,   9,   8,   8],\n",
       "          [  7,   7,   7, ...,   8,   8,   8]],\n",
       " \n",
       "         [[138, 138, 138, ..., 134, 134, 134],\n",
       "          [139, 139, 139, ..., 134, 134, 135],\n",
       "          [139, 139, 139, ..., 135, 135, 135],\n",
       "          ...,\n",
       "          [ 12,  11,  11, ...,  13,  13,  13],\n",
       "          [ 11,  11,  11, ...,  13,  13,  13],\n",
       "          [ 12,  11,  11, ...,  12,  13,  13]],\n",
       " \n",
       "         [[216, 216, 216, ..., 212, 212, 212],\n",
       "          [217, 216, 216, ..., 213, 213, 213],\n",
       "          [217, 217, 217, ..., 213, 213, 213],\n",
       "          ...,\n",
       "          [ 21,  20,  19, ...,  20,  20,  20],\n",
       "          [ 20,  20,  20, ...,  20,  20,  20],\n",
       "          [ 19,  18,  19, ...,  19,  20,  20]]],\n",
       " \n",
       " \n",
       "        [[[108, 108, 108, ..., 114, 114, 114],\n",
       "          [110, 110, 110, ..., 115, 115, 115],\n",
       "          [110, 110, 110, ..., 115, 115, 116],\n",
       "          ...,\n",
       "          [  8,   8,   8, ...,   9,   8,   8],\n",
       "          [  8,   8,   8, ...,  10,   8,   7],\n",
       "          [  7,   8,   7, ...,   9,   9,   9]],\n",
       " \n",
       "         [[160, 160, 160, ..., 167, 167, 167],\n",
       "          [160, 160, 160, ..., 168, 168, 168],\n",
       "          [161, 161, 161, ..., 168, 168, 169],\n",
       "          ...,\n",
       "          [ 13,  13,  14, ...,  16,  15,  14],\n",
       "          [ 13,  14,  14, ...,  17,  15,  14],\n",
       "          [ 13,  14,  14, ...,  16,  16,  15]],\n",
       " \n",
       "         [[233, 233, 233, ..., 237, 237, 237],\n",
       "          [233, 233, 233, ..., 236, 236, 236],\n",
       "          [234, 234, 234, ..., 236, 236, 237],\n",
       "          ...,\n",
       "          [ 22,  23,  23, ...,  26,  25,  25],\n",
       "          [ 23,  23,  24, ...,  26,  25,  24],\n",
       "          [ 23,  23,  24, ...,  26,  25,  24]]],\n",
       " \n",
       " \n",
       "        [[[ 96,  96,  96, ..., 113, 113, 113],\n",
       "          [ 97,  97,  97, ..., 113, 113, 113],\n",
       "          [ 97,  97,  97, ..., 114, 113, 113],\n",
       "          ...,\n",
       "          [  8,   8,   9, ...,  10,  10,   9],\n",
       "          [  8,   8,   8, ...,  11,  13,   8],\n",
       "          [  8,   8,   8, ...,  13,  10,   9]],\n",
       " \n",
       "         [[143, 143, 143, ..., 164, 164, 164],\n",
       "          [144, 144, 144, ..., 165, 165, 165],\n",
       "          [144, 144, 144, ..., 166, 166, 166],\n",
       "          ...,\n",
       "          [ 13,  12,  13, ...,  14,  14,  13],\n",
       "          [ 12,  12,  13, ...,  16,  18,  13],\n",
       "          [ 12,  12,  12, ...,  18,  15,  13]],\n",
       " \n",
       "         [[221, 221, 221, ..., 234, 234, 234],\n",
       "          [222, 222, 222, ..., 233, 234, 234],\n",
       "          [222, 222, 222, ..., 234, 234, 234],\n",
       "          ...,\n",
       "          [ 21,  21,  22, ...,  23,  23,  22],\n",
       "          [ 21,  21,  22, ...,  24,  25,  22],\n",
       "          [ 21,  21,  21, ...,  25,  23,  22]]]], dtype=uint8),\n",
       " 'y_train': array([[0.52818626, 0.47998488, 0.5469771 , 0.49018127],\n",
       "        [0.5747549 , 0.40861028, 0.58905226, 0.42069486],\n",
       "        [0.6625817 , 0.41427493, 0.67075163, 0.42673716],\n",
       "        ...,\n",
       "        [0.2863562 , 0.43768883, 0.37867647, 0.5166163 ],\n",
       "        [0.25285947, 0.3561178 , 0.3496732 , 0.4365559 ],\n",
       "        [0.60457516, 0.39879155, 0.7038399 , 0.47243202]], dtype=float32),\n",
       " 'x_test': array([[[[ 89,  89,  89, ..., 103, 102, 102],\n",
       "          [ 90,  90,  90, ..., 103, 103, 103],\n",
       "          [ 90,  90,  90, ..., 103, 103, 103],\n",
       "          ...,\n",
       "          [  9,   9,  10, ...,   8,   8,   9],\n",
       "          [  8,   9,   9, ...,   8,   9,   9],\n",
       "          [  9,   9,   9, ...,   8,   9,  10]],\n",
       " \n",
       "         [[136, 136, 136, ..., 154, 154, 154],\n",
       "          [137, 137, 137, ..., 154, 154, 155],\n",
       "          [137, 137, 137, ..., 155, 155, 155],\n",
       "          ...,\n",
       "          [ 16,  16,  17, ...,  15,  15,  16],\n",
       "          [ 15,  16,  16, ...,  15,  16,  16],\n",
       "          [ 16,  16,  16, ...,  15,  16,  17]],\n",
       " \n",
       "         [[218, 218, 218, ..., 230, 230, 230],\n",
       "          [219, 219, 219, ..., 231, 231, 231],\n",
       "          [219, 219, 219, ..., 231, 231, 231],\n",
       "          ...,\n",
       "          [ 26,  26,  26, ...,  25,  25,  26],\n",
       "          [ 25,  26,  26, ...,  25,  26,  25],\n",
       "          [ 26,  26,  26, ...,  25,  26,  26]]],\n",
       " \n",
       " \n",
       "        [[[ 96,  96,  96, ...,  86,  86,  86],\n",
       "          [ 97,  96,  96, ...,  87,  87,  87],\n",
       "          [ 97,  97,  97, ...,  87,  87,  87],\n",
       "          ...,\n",
       "          [  9,   9,   9, ...,  10,   9,   9],\n",
       "          [  9,   9,   9, ...,  10,  10,   9],\n",
       "          [  9,   9,   9, ...,   9,   9,  10]],\n",
       " \n",
       "         [[145, 145, 145, ..., 133, 133, 133],\n",
       "          [146, 145, 145, ..., 134, 134, 134],\n",
       "          [146, 146, 146, ..., 134, 134, 134],\n",
       "          ...,\n",
       "          [ 15,  15,  15, ...,  17,  16,  16],\n",
       "          [ 15,  15,  16, ...,  17,  17,  16],\n",
       "          [ 15,  15,  16, ...,  16,  16,  17]],\n",
       " \n",
       "         [[224, 224, 224, ..., 215, 215, 215],\n",
       "          [225, 224, 224, ..., 216, 216, 216],\n",
       "          [225, 225, 225, ..., 216, 216, 216],\n",
       "          ...,\n",
       "          [ 28,  28,  27, ...,  27,  26,  26],\n",
       "          [ 27,  26,  26, ...,  27,  27,  26],\n",
       "          [ 26,  25,  26, ...,  26,  26,  27]]],\n",
       " \n",
       " \n",
       "        [[[102, 102, 101, ...,  91,  92,  92],\n",
       "          [102, 102, 102, ...,  92,  92,  92],\n",
       "          [103, 103, 103, ...,  92,  92,  92],\n",
       "          ...,\n",
       "          [  9,   9,   9, ...,   8,   8,   8],\n",
       "          [  8,   8,   8, ...,   7,   7,   8],\n",
       "          [  9,   9,   8, ...,   8,   9,   9]],\n",
       " \n",
       "         [[151, 151, 150, ..., 137, 137, 137],\n",
       "          [151, 151, 151, ..., 138, 138, 138],\n",
       "          [152, 152, 152, ..., 138, 138, 138],\n",
       "          ...,\n",
       "          [ 14,  14,  13, ...,  13,  13,  13],\n",
       "          [ 13,  13,  12, ...,  12,  12,  13],\n",
       "          [ 13,  13,  12, ...,  13,  14,  14]],\n",
       " \n",
       "         [[227, 227, 226, ..., 217, 217, 217],\n",
       "          [227, 227, 227, ..., 216, 216, 216],\n",
       "          [228, 228, 228, ..., 217, 217, 217],\n",
       "          ...,\n",
       "          [ 23,  23,  22, ...,  20,  20,  20],\n",
       "          [ 22,  21,  21, ...,  19,  19,  20],\n",
       "          [ 22,  22,  21, ...,  20,  20,  20]]],\n",
       " \n",
       " \n",
       "        ...,\n",
       " \n",
       " \n",
       "        [[[ 87,  87,  87, ..., 100, 100, 100],\n",
       "          [ 87,  87,  88, ..., 100, 100, 100],\n",
       "          [ 88,  88,  88, ..., 101, 101, 101],\n",
       "          ...,\n",
       "          [126, 126, 125, ..., 140, 140, 140],\n",
       "          [126, 125, 124, ..., 141, 141, 141],\n",
       "          [124, 123, 120, ..., 141, 140, 140]],\n",
       " \n",
       "         [[134, 134, 134, ..., 149, 149, 149],\n",
       "          [134, 134, 135, ..., 149, 149, 149],\n",
       "          [135, 135, 135, ..., 150, 150, 150],\n",
       "          ...,\n",
       "          [130, 130, 129, ..., 136, 136, 136],\n",
       "          [129, 129, 127, ..., 137, 137, 137],\n",
       "          [128, 126, 124, ..., 137, 136, 136]],\n",
       " \n",
       "         [[216, 216, 216, ..., 226, 226, 226],\n",
       "          [216, 216, 217, ..., 227, 227, 227],\n",
       "          [217, 217, 217, ..., 227, 227, 227],\n",
       "          ...,\n",
       "          [113, 113, 112, ..., 135, 135, 135],\n",
       "          [112, 112, 110, ..., 136, 136, 136],\n",
       "          [111, 109, 107, ..., 136, 135, 135]]],\n",
       " \n",
       " \n",
       "        [[[106, 106, 106, ...,  95,  94,  94],\n",
       "          [107, 106, 106, ...,  94,  95,  95],\n",
       "          [107, 107, 107, ...,  96,  96,  96],\n",
       "          ...,\n",
       "          [ 82,  82,  82, ...,  42,  42,  43],\n",
       "          [ 81,  82,  82, ...,  42,  42,  43],\n",
       "          [ 81,  81,  81, ...,  41,  42,  43]],\n",
       " \n",
       "         [[150, 150, 150, ..., 134, 134, 134],\n",
       "          [151, 150, 150, ..., 135, 135, 135],\n",
       "          [151, 151, 151, ..., 135, 135, 135],\n",
       "          ...,\n",
       "          [ 77,  78,  78, ...,  40,  40,  40],\n",
       "          [ 77,  77,  78, ...,  40,  40,  40],\n",
       "          [ 77,  77,  77, ...,  39,  39,  40]],\n",
       " \n",
       "         [[213, 213, 213, ..., 202, 202, 202],\n",
       "          [214, 213, 213, ..., 202, 202, 202],\n",
       "          [214, 214, 214, ..., 202, 202, 202],\n",
       "          ...,\n",
       "          [ 74,  75,  75, ...,  41,  41,  41],\n",
       "          [ 74,  74,  75, ...,  41,  41,  41],\n",
       "          [ 74,  74,  74, ...,  40,  40,  41]]],\n",
       " \n",
       " \n",
       "        [[[ 95,  95,  95, ...,  90,  90,  90],\n",
       "          [ 96,  96,  96, ...,  89,  89,  89],\n",
       "          [ 96,  96,  96, ...,  90,  90,  90],\n",
       "          ...,\n",
       "          [109, 109, 109, ..., 130, 130, 131],\n",
       "          [109, 109, 109, ..., 130, 131, 131],\n",
       "          [109, 109, 109, ..., 129, 129, 130]],\n",
       " \n",
       "         [[142, 142, 142, ..., 135, 135, 135],\n",
       "          [143, 143, 143, ..., 136, 136, 136],\n",
       "          [143, 143, 143, ..., 136, 136, 136],\n",
       "          ...,\n",
       "          [112, 112, 112, ..., 125, 125, 125],\n",
       "          [112, 112, 112, ..., 124, 125, 125],\n",
       "          [112, 112, 112, ..., 124, 124, 124]],\n",
       " \n",
       "         [[221, 221, 221, ..., 216, 216, 216],\n",
       "          [223, 222, 222, ..., 216, 216, 216],\n",
       "          [223, 223, 223, ..., 216, 216, 216],\n",
       "          ...,\n",
       "          [ 95,  95,  95, ..., 125, 125, 125],\n",
       "          [ 95,  95,  95, ..., 124, 125, 125],\n",
       "          [ 95,  95,  95, ..., 123, 123, 124]]]], dtype=uint8),\n",
       " 'y_test': array([[0.2013889 , 0.4633686 , 0.33292484, 0.53814197],\n",
       "        [0.36478758, 0.48187312, 0.4644608 , 0.5581571 ],\n",
       "        [0.47875816, 0.40785497, 0.57965684, 0.48716012],\n",
       "        [0.690768  , 0.4966012 , 0.7986111 , 0.5743958 ],\n",
       "        [0.5678105 , 0.45808157, 0.67401963, 0.5336103 ],\n",
       "        [0.6486928 , 0.4063444 , 0.75898695, 0.47847432],\n",
       "        [0.47875816, 0.50151056, 0.5874183 , 0.5800604 ],\n",
       "        [0.24795751, 0.42069486, 0.35947713, 0.50490934],\n",
       "        [0.19607843, 0.46563444, 0.3129085 , 0.5528701 ],\n",
       "        [0.33088234, 0.45770392, 0.46568626, 0.5294562 ],\n",
       "        [0.4117647 , 0.42069486, 0.52900326, 0.5033988 ],\n",
       "        [0.2389706 , 0.41200906, 0.35947713, 0.4913142 ],\n",
       "        [0.3402778 , 0.41465256, 0.46691176, 0.5018882 ],\n",
       "        [0.2859477 , 0.43542296, 0.44771242, 0.53927493],\n",
       "        [0.36397058, 0.48716012, 0.5085784 , 0.5721299 ],\n",
       "        [0.30433005, 0.42938066, 0.43545753, 0.5173716 ],\n",
       "        [0.46895424, 0.45506042, 0.6013072 , 0.5517372 ],\n",
       "        [0.35661766, 0.41351965, 0.49101308, 0.5120846 ],\n",
       "        [0.27042484, 0.38141993, 0.4652778 , 0.48716012],\n",
       "        [0.49387255, 0.46752265, 0.6352124 , 0.5751511 ],\n",
       "        [0.49632353, 0.41993958, 0.6388889 , 0.5090634 ],\n",
       "        [0.24060458, 0.4886707 , 0.39215687, 0.5811933 ],\n",
       "        [0.4019608 , 0.37424472, 0.54656863, 0.47243202],\n",
       "        [0.45261437, 0.49055892, 0.6466503 , 0.58572507],\n",
       "        [0.4869281 , 0.39954683, 0.6372549 , 0.5071752 ],\n",
       "        [0.5053105 , 0.39086103, 0.6650327 , 0.4879154 ],\n",
       "        [0.23080066, 0.39652568, 0.3888889 , 0.51586103],\n",
       "        [0.22385621, 0.5305891 , 0.38194445, 0.6510574 ],\n",
       "        [0.37173203, 0.42220545, 0.53267974, 0.532855  ],\n",
       "        [0.4236111 , 0.37122357, 0.5955882 , 0.46714503],\n",
       "        [0.50898695, 0.47167674, 0.69240195, 0.5755287 ],\n",
       "        [0.5612745 , 0.35536253, 0.7487745 , 0.46110272],\n",
       "        [0.2001634 , 0.50037766, 0.39011437, 0.61216015],\n",
       "        [0.2863562 , 0.3281722 , 0.4738562 , 0.45694864],\n",
       "        [0.3125    , 0.4297583 , 0.503268  , 0.5354985 ],\n",
       "        [0.40686274, 0.44373113, 0.59844774, 0.56986403],\n",
       "        [0.3259804 , 0.548716  , 0.54044116, 0.6767372 ],\n",
       "        [0.3251634 , 0.41880664, 0.5506536 , 0.53436553],\n",
       "        [0.26062092, 0.4913142 , 0.52124184, 0.619713  ],\n",
       "        [0.01797386, 0.45543808, 0.35620916, 0.6370846 ],\n",
       "        [0.26960784, 0.43504533, 0.5669935 , 0.5751511 ],\n",
       "        [0.31576797, 0.4913142 , 0.6143791 , 0.6370846 ],\n",
       "        [0.30718955, 0.43164653, 0.6343954 , 0.6117825 ],\n",
       "        [0.0629085 , 0.3323263 , 0.4624183 , 0.4958459 ],\n",
       "        [0.4640523 , 0.44410875, 0.8129085 , 0.58912385],\n",
       "        [0.64787585, 0.46676737, 1.0159314 , 0.63595164],\n",
       "        [0.34313726, 0.46978852, 0.70629084, 0.63783985],\n",
       "        [0.45710784, 0.45808157, 0.8382353 , 0.6476586 ],\n",
       "        [0.0870098 , 0.33383685, 0.47549018, 0.52832323],\n",
       "        [0.42973855, 0.4305136 , 0.84313726, 0.5936556 ]], dtype=float32)}"
      ]
     },
     "execution_count": 101,
     "metadata": {},
     "output_type": "execute_result"
    }
   ],
   "source": [
    "dico_dataset"
   ]
  },
  {
   "cell_type": "code",
   "execution_count": 131,
   "id": "1f14a934-8542-4376-b632-45b49a46e5de",
   "metadata": {},
   "outputs": [],
   "source": [
    "from torch.utils.data import DataLoader\n",
    "\n",
    "dataloader = DataLoader(X_train, batch_size=1, shuffle=False)\n",
    "iterator = iter(dataloader)\n",
    "dataloader_Y = DataLoader(Y_train, batch_size=1, shuffle=False)\n",
    "iterator_Y = iter(dataloader_Y)"
   ]
  },
  {
   "cell_type": "code",
   "execution_count": 132,
   "id": "5a46153d-31e8-44cc-a47e-9efabd0731d9",
   "metadata": {},
   "outputs": [
    {
     "data": {
      "text/plain": [
       "torch.Size([1, 4])"
      ]
     },
     "execution_count": 132,
     "metadata": {},
     "output_type": "execute_result"
    }
   ],
   "source": [
    "data_Y.shape"
   ]
  },
  {
   "cell_type": "code",
   "execution_count": 133,
   "id": "8aa9e409-292b-4838-ac13-e4c103de72a1",
   "metadata": {},
   "outputs": [],
   "source": [
    "data = next(iterator)\n",
    "data_Y = next(iterator_Y)\n",
    "X = data/255\n",
    "y = data_Y*256"
   ]
  },
  {
   "cell_type": "code",
   "execution_count": 134,
   "id": "8bfe8674-6d83-4924-affa-7e5f6574941d",
   "metadata": {},
   "outputs": [
    {
     "data": {
      "text/plain": [
       "tensor([[135.2157, 122.8761, 140.0261, 125.4864]])"
      ]
     },
     "execution_count": 134,
     "metadata": {},
     "output_type": "execute_result"
    }
   ],
   "source": [
    "\n",
    "y"
   ]
  },
  {
   "cell_type": "code",
   "execution_count": 136,
   "id": "9efe739a-db67-4224-8de0-089edd6aedd8",
   "metadata": {},
   "outputs": [
    {
     "data": {
      "text/plain": [
       "tensor([[[ 95.,  95.,  95.,  ...,  88.,  88.,  88.],\n",
       "         [ 96.,  96.,  96.,  ...,  88.,  88.,  88.],\n",
       "         [ 96.,  96.,  96.,  ...,  89.,  89.,  89.],\n",
       "         ...,\n",
       "         [163., 166., 169.,  ..., 195., 189., 183.],\n",
       "         [158., 159., 161.,  ..., 204., 202., 194.],\n",
       "         [147., 147., 150.,  ..., 206., 203., 196.]],\n",
       "\n",
       "        [[144., 144., 144.,  ..., 135., 135., 135.],\n",
       "         [145., 145., 145.,  ..., 135., 135., 135.],\n",
       "         [145., 145., 145.,  ..., 136., 136., 136.],\n",
       "         ...,\n",
       "         [140., 143., 144.,  ..., 184., 179., 172.],\n",
       "         [138., 139., 140.,  ..., 191., 187., 177.],\n",
       "         [137., 137., 139.,  ..., 189., 185., 176.]],\n",
       "\n",
       "        [[223., 223., 223.,  ..., 217., 217., 217.],\n",
       "         [224., 224., 224.,  ..., 217., 217., 217.],\n",
       "         [224., 224., 224.,  ..., 218., 218., 218.],\n",
       "         ...,\n",
       "         [128., 131., 132.,  ..., 165., 160., 153.],\n",
       "         [126., 126., 127.,  ..., 175., 172., 161.],\n",
       "         [121., 121., 123.,  ..., 174., 171., 164.]]])"
      ]
     },
     "execution_count": 136,
     "metadata": {},
     "output_type": "execute_result"
    }
   ],
   "source": []
  },
  {
   "cell_type": "code",
   "execution_count": 138,
   "id": "b47cfb4a-42a0-4391-8006-6f0e1864e28d",
   "metadata": {},
   "outputs": [
    {
     "data": {
      "text/plain": [
       "(array([ 65.37699 , 119.904785,  68.43369 , 123.424866], dtype=float32),\n",
       " array([ 65.37699 , 119.904785,  68.43369 , 123.424866], dtype=float32))"
      ]
     },
     "execution_count": 138,
     "metadata": {},
     "output_type": "execute_result"
    }
   ],
   "source": [
    "bound_whitenoise(torch_model, X_train_[52][None]/255, 0.000, method='crown')"
   ]
  },
  {
   "cell_type": "code",
   "execution_count": 140,
   "id": "fc4807e2",
   "metadata": {},
   "outputs": [
    {
     "data": {
      "text/plain": [
       "tensor([ 64.8366, 118.4290,  67.3464, 121.7160])"
      ]
     },
     "execution_count": 140,
     "metadata": {},
     "output_type": "execute_result"
    }
   ],
   "source": [
    "Y_train_[52]*256"
   ]
  },
  {
   "cell_type": "code",
   "execution_count": 59,
   "id": "c60d45f3",
   "metadata": {},
   "outputs": [],
   "source": [
    "# convert the data into tensors and send it to the right device\n"
   ]
  },
  {
   "cell_type": "code",
   "execution_count": 60,
   "id": "2849f4cb-a306-4584-b0ec-5411bd40b993",
   "metadata": {},
   "outputs": [
    {
     "data": {
      "text/plain": [
       "400"
      ]
     },
     "execution_count": 60,
     "metadata": {},
     "output_type": "execute_result"
    }
   ],
   "source": [
    "len(X_train_)"
   ]
  },
  {
   "cell_type": "code",
   "execution_count": 61,
   "id": "50ca1e79",
   "metadata": {},
   "outputs": [
    {
     "data": {
      "image/png": "[encoded data removed]",
      "text/plain": [
       "<Figure size 640x480 with 1 Axes>"
      ]
     },
     "metadata": {},
     "output_type": "display_data"
    }
   ],
   "source": [
    "### plot\n",
    "\n",
    "img_ = np.transpose(X_test[0], (1, 2, 0))\n",
    "\n",
    "fig, ax = plt.subplots()\n",
    "ax.imshow(img_)\n",
    "\n",
    "# all the groundtruth coordinates are normalized, we need to rescale it to 256\n",
    "x_0, y_0, x_1, y_1 = [e*256 for e in Y_test[0]]\n",
    "\n",
    "rect = patches.Rectangle(\n",
    "            (x_0, y_0),\n",
    "            x_1-x_0, y_1-y_0, \n",
    "            linewidth=5, edgecolor='r', facecolor=\"none\") \n",
    "ax.add_patch(rect)\n",
    "\n",
    "\n",
    "plt.show()"
   ]
  },
  {
   "cell_type": "markdown",
   "id": "bdf1e17b",
   "metadata": {},
   "source": [
    "# load model"
   ]
  },
  {
   "cell_type": "code",
   "execution_count": 62,
   "id": "b4c83b42",
   "metadata": {},
   "outputs": [],
   "source": [
    "torch_model = nn.Sequential(\n",
    "    nn.Conv2d(3, 32, kernel_size=(3,3), stride=2, padding=1),\n",
    "    nn.ReLU(),\n",
    "    nn.Conv2d(32, 64, kernel_size=(3,3), stride=2, padding=1),\n",
    "    nn.ReLU(),\n",
    "    nn.Conv2d(64, 128, kernel_size=(3,3), stride=2, padding=1),\n",
    "    nn.ReLU(),\n",
    "    nn.Flatten(), #131072\n",
    "    nn.Linear(131072, 128),\n",
    "    nn.ReLU(),\n",
    "    nn.Linear(128,128),\n",
    "    nn.ReLU(),\n",
    "    nn.Linear(128,4),\n",
    ")"
   ]
  },
  {
   "cell_type": "code",
   "execution_count": 63,
   "id": "5605a294",
   "metadata": {},
   "outputs": [],
   "source": [
    "if device.type=='cuda':\n",
    "    torch_model.cuda()"
   ]
  },
  {
   "cell_type": "code",
   "execution_count": null,
   "id": "876a1fde-8667-4f7e-831b-389ac45632de",
   "metadata": {},
   "outputs": [],
   "source": []
  },
  {
   "cell_type": "code",
   "execution_count": 64,
   "id": "dea4ea4e",
   "metadata": {},
   "outputs": [],
   "source": [
    "## load previous saved model\n",
    "\n",
    "nnet = torch.load('detection/weights/tmp_nfm_v4.pt', torch.device('cpu'))"
   ]
  },
  {
   "cell_type": "code",
   "execution_count": 65,
   "id": "6b0b28e6",
   "metadata": {},
   "outputs": [
    {
     "data": {
      "text/plain": [
       "<All keys matched successfully>"
      ]
     },
     "execution_count": 65,
     "metadata": {},
     "output_type": "execute_result"
    }
   ],
   "source": [
    "torch_model.load_state_dict(nnet.state_dict())"
   ]
  },
  {
   "cell_type": "code",
   "execution_count": 66,
   "id": "71820526-a807-4e5d-bba0-935ee91b75d1",
   "metadata": {},
   "outputs": [
    {
     "data": {
      "text/plain": [
       "(1, 256, 256, 3)"
      ]
     },
     "execution_count": 66,
     "metadata": {},
     "output_type": "execute_result"
    }
   ],
   "source": [
    "img_[None].shape"
   ]
  },
  {
   "cell_type": "code",
   "execution_count": 67,
   "id": "fe0323ea-8a27-4c12-934c-0be81e30923f",
   "metadata": {},
   "outputs": [
    {
     "data": {
      "text/plain": [
       "torch.Size([1, 3, 256, 256])"
      ]
     },
     "execution_count": 67,
     "metadata": {},
     "output_type": "execute_result"
    }
   ],
   "source": [
    "torch_im.permute(2,0,1)[None].shape"
   ]
  },
  {
   "cell_type": "code",
   "execution_count": 68,
   "id": "70081d0a-dd0d-446a-b775-14c575bf04e6",
   "metadata": {},
   "outputs": [
    {
     "data": {
      "text/plain": [
       "tensor([[29357.2363, 31679.2734, 31448.5527, 33000.0234]],\n",
       "       grad_fn=<AddmmBackward0>)"
      ]
     },
     "execution_count": 68,
     "metadata": {},
     "output_type": "execute_result"
    }
   ],
   "source": [
    "torch_im = torch.tensor(img_).to(torch.float32)\n",
    "torch_model(torch_im.permute(2,0,1)[None])"
   ]
  },
  {
   "cell_type": "markdown",
   "id": "cb1f235a",
   "metadata": {},
   "source": [
    "## Check IOU"
   ]
  },
  {
   "cell_type": "code",
   "execution_count": 69,
   "id": "a15e60c8",
   "metadata": {},
   "outputs": [],
   "source": [
    "loss_iou = ops.distance_box_iou_loss"
   ]
  },
  {
   "cell_type": "code",
   "execution_count": 70,
   "id": "e73061f4-1818-49e9-a83a-53fba02dc378",
   "metadata": {},
   "outputs": [
    {
     "data": {
      "text/plain": [
       "torch.Size([400, 3, 256, 256])"
      ]
     },
     "execution_count": 70,
     "metadata": {},
     "output_type": "execute_result"
    }
   ],
   "source": [
    "X_train_.shape"
   ]
  },
  {
   "cell_type": "code",
   "execution_count": 71,
   "id": "962900bb",
   "metadata": {},
   "outputs": [],
   "source": [
    "outputs = torch_model(X_train_/255.)"
   ]
  },
  {
   "cell_type": "code",
   "execution_count": 72,
   "id": "d58b647f",
   "metadata": {},
   "outputs": [],
   "source": [
    "ious = loss_iou(Y_train_*256, outputs)"
   ]
  },
  {
   "cell_type": "code",
   "execution_count": 104,
   "id": "be3b8353",
   "metadata": {},
   "outputs": [
    {
     "name": "stdout",
     "output_type": "stream",
     "text": [
      "index of correct ious [185 197 198 202 203 205 206 209 210 211 212 213 214 216 218 220 221 222\n",
      " 224 226 227 229 230 231 232 233 239 240 241 242 243 244 245 246 247 248\n",
      " 249 250 251 252 253 254 255 258 259 260 261 262 263 264 265 266 267 269\n",
      " 270 271 272 273 274 275 277 278 279 281 282 284 285 286 287 288 289 290\n",
      " 291 292 293 294 295 296 297 298 299 300 301 302 304 305 306 307 308 310\n",
      " 311 312 313 314 315 316 317 318 319 320 321 322 323 324 325 326 327 328\n",
      " 329 330 331 332 333 334 335 336 337 338 339 340 341 342 343 344 345 346\n",
      " 347 348 349 350 351 352 353 354 355 356 357 358 359 360 361 362 363 364\n",
      " 365 366 367 368 369 370 371 372 373 374 375 376 377 378 379 380 381 382\n",
      " 383 384 385 386 387 388 389 390 391 392 393 394 395 396 397 398 399]\n",
      "mean test ious tensor(0.5682, grad_fn=<MeanBackward0>)\n"
     ]
    }
   ],
   "source": [
    "index_iou_train =  torch.where(ious<0.5)[0].cpu().numpy()\n",
    "\n",
    "mean_ious = torch.mean(ious)\n",
    "print('index of correct ious', index_iou_train)\n",
    "print('mean test ious', mean_ious)"
   ]
  },
  {
   "cell_type": "code",
   "execution_count": 144,
   "id": "8117702d-e16a-4a11-9016-1e9770771489",
   "metadata": {},
   "outputs": [
    {
     "data": {
      "text/plain": [
       "301"
      ]
     },
     "execution_count": 144,
     "metadata": {},
     "output_type": "execute_result"
    }
   ],
   "source": [
    "i = index_iou_train[np.random.permutation(len(index_iou_train))][0]\n",
    "i"
   ]
  },
  {
   "cell_type": "code",
   "execution_count": 105,
   "id": "055caf08",
   "metadata": {},
   "outputs": [
    {
     "data": {
      "image/png": "[encoded data removed]",
      "text/plain": [
       "<Figure size 640x480 with 1 Axes>"
      ]
     },
     "metadata": {},
     "output_type": "display_data"
    }
   ],
   "source": [
    "### plot\n",
    "i = index_iou_train[np.random.permutation(len(index_iou_train))][0]\n",
    "img_ = np.transpose(X_train[i], (1, 2, 0))\n",
    "\n",
    "fig, ax = plt.subplots()\n",
    "ax.imshow(img_)\n",
    "\n",
    "# all the groundtruth coordinates are normalized, we need to rescale it to 256\n",
    "x_0_gt, y_0_gt, x_1_gt, y_1_gt = [e*256 for e in Y_train[i]]\n",
    "x_0_p, y_0_p, x_1_p, y_1_p = [e*256 for e in Y_train[i]]\n",
    "\n",
    "rect_gt = patches.Rectangle(\n",
    "            (x_0_gt, y_0_gt),\n",
    "            x_1_gt-x_0_gt, y_1_gt-y_0_gt, \n",
    "            linewidth=5, edgecolor='r', facecolor=\"none\") \n",
    "ax.add_patch(rect_gt)\n",
    "\n",
    "rect_p = patches.Rectangle(\n",
    "            (x_0_p, y_0_p),\n",
    "            x_1_p-x_0_p, y_1_p-y_0_p, \n",
    "            linewidth=5, edgecolor='g', facecolor=\"none\") \n",
    "ax.add_patch(rect_p)\n",
    "\n",
    "\n",
    "plt.show()"
   ]
  },
  {
   "cell_type": "code",
   "execution_count": 107,
   "id": "babf8d57-59f2-4fa7-996e-22f7e5d8723c",
   "metadata": {},
   "outputs": [
    {
     "data": {
      "text/plain": [
       "(4,)"
      ]
     },
     "execution_count": 107,
     "metadata": {},
     "output_type": "execute_result"
    }
   ],
   "source": [
    "Y_train[i].shape"
   ]
  },
  {
   "cell_type": "code",
   "execution_count": 78,
   "id": "91901b6f-6a80-4cd9-9d53-f0268452eae5",
   "metadata": {},
   "outputs": [],
   "source": [
    "def bound_whitenoise(model_box, X, eps, method='crown'):\n",
    "    X_lirpa = X.float().to('cpu')\n",
    "    model_lirpa_corner = BoundedModule(model_box, X_lirpa)\n",
    "    ptb = PerturbationLpNorm(norm=np.inf, eps=eps)\n",
    "    input_lirpa = BoundedTensor(X_lirpa, ptb)\n",
    "    lb_box, ub_box = model_lirpa_corner.compute_bounds(x=(input_lirpa,),method=method)\n",
    "    return lb_box.detach().numpy()[0], ub_box.detach().numpy()[0]\n",
    "\n"
   ]
  },
  {
   "cell_type": "code",
   "execution_count": 76,
   "id": "4f460ccc-ef63-4b32-bb3a-a02a63a4bbbd",
   "metadata": {},
   "outputs": [
    {
     "data": {
      "text/plain": [
       "(array([ 56.074974, 117.21887 ,  88.685036, 133.3083  ], dtype=float32),\n",
       " array([ 57.756607, 118.04462 ,  90.36452 , 134.20847 ], dtype=float32))"
      ]
     },
     "execution_count": 76,
     "metadata": {},
     "output_type": "execute_result"
    }
   ],
   "source": [
    "from auto_LiRPA import BoundedModule, BoundedTensor, PerturbationLpNorm\n",
    "import numpy as np\n",
    "import torch \n",
    "import pandas as pd\n",
    "import torch.nn.functional as F\n",
    "from torch import nn\n",
    "\n",
    "\n",
    "bound_whitenoise(torch_model, torch_im.permute(2,0,1)[None]/255, 0.0002, method='crown')"
   ]
  },
  {
   "cell_type": "code",
   "execution_count": 77,
   "id": "bd6c2521-1799-403c-8974-efb4477e4df6",
   "metadata": {},
   "outputs": [
    {
     "data": {
      "text/plain": [
       "torch.Size([1, 3, 256, 256])"
      ]
     },
     "execution_count": 77,
     "metadata": {},
     "output_type": "execute_result"
    }
   ],
   "source": [
    "torch_im.permute(2,0,1)[None].shape"
   ]
  },
  {
   "cell_type": "code",
   "execution_count": 118,
   "id": "4ff8eba6-75d7-4458-84f2-a1a4a23059dd",
   "metadata": {},
   "outputs": [
    {
     "data": {
      "text/plain": [
       "tensor([[ 93.3464, 112.5051, 100.9680, 120.6756]], grad_fn=<AddmmBackward0>)"
      ]
     },
     "execution_count": 118,
     "metadata": {},
     "output_type": "execute_result"
    }
   ],
   "source": [
    "torch_model(X_train_[i][None]/255.)"
   ]
  },
  {
   "cell_type": "code",
   "execution_count": 121,
   "id": "70882e3b-0f7d-4727-aab6-27bbb2b31eb4",
   "metadata": {},
   "outputs": [
    {
     "data": {
      "text/plain": [
       "tensor([ 92.3399, 111.3716,  99.7647, 119.5891])"
      ]
     },
     "execution_count": 121,
     "metadata": {},
     "output_type": "execute_result"
    }
   ],
   "source": [
    "Y_train_[i]*256"
   ]
  },
  {
   "cell_type": "code",
   "execution_count": 119,
   "id": "0148a79d-a052-439f-aec8-305a9b5b20f3",
   "metadata": {},
   "outputs": [
    {
     "data": {
      "text/plain": [
       "(array([ 92.49625, 112.10933, 100.12429, 120.23955], dtype=float32),\n",
       " array([ 94.19751, 112.90226, 101.8129 , 121.11319], dtype=float32))"
      ]
     },
     "execution_count": 119,
     "metadata": {},
     "output_type": "execute_result"
    }
   ],
   "source": [
    "bound_whitenoise(torch_model, X_train_[i][None]/255., 0.0002, method='crown')"
   ]
  },
  {
   "cell_type": "code",
   "execution_count": 79,
   "id": "dde24595-7b0b-4814-9cd7-ab78058b9881",
   "metadata": {},
   "outputs": [
    {
     "data": {
      "text/plain": [
       "tensor([[[ 78.,  78.,  77.,  ...,  79.,  80.,  80.],\n",
       "         [ 79.,  79.,  79.,  ...,  80.,  80.,  80.],\n",
       "         [ 78.,  78.,  78.,  ...,  80.,  80.,  79.],\n",
       "         ...,\n",
       "         [ 73.,  68.,  63.,  ...,  63.,  58.,  86.],\n",
       "         [ 66.,  72.,  85.,  ...,  89.,  57.,  56.],\n",
       "         [ 94.,  93.,  95.,  ..., 103.,  73.,  45.]],\n",
       "\n",
       "        [[119., 119., 119.,  ..., 119., 119., 119.],\n",
       "         [119., 118., 118.,  ..., 119., 119., 119.],\n",
       "         [120., 120., 120.,  ..., 119., 119., 120.],\n",
       "         ...,\n",
       "         [ 78.,  74.,  72.,  ...,  65.,  67., 104.],\n",
       "         [ 74.,  79.,  93.,  ...,  91.,  61.,  66.],\n",
       "         [ 95.,  93.,  94.,  ..., 106.,  77.,  52.]],\n",
       "\n",
       "        [[196., 196., 195.,  ..., 196., 196., 196.],\n",
       "         [197., 197., 197.,  ..., 196., 196., 197.],\n",
       "         [196., 196., 196.,  ..., 198., 197., 197.],\n",
       "         ...,\n",
       "         [ 65.,  61.,  58.,  ...,  48.,  49.,  85.],\n",
       "         [ 62.,  68.,  81.,  ...,  72.,  42.,  46.],\n",
       "         [ 88.,  86.,  88.,  ...,  90.,  62.,  38.]]])"
      ]
     },
     "execution_count": 79,
     "metadata": {},
     "output_type": "execute_result"
    }
   ],
   "source": []
  },
  {
   "cell_type": "code",
   "execution_count": 146,
   "id": "dab59055-6845-4a3d-bbab-03143882e49c",
   "metadata": {},
   "outputs": [],
   "source": [
    "df = pd.read_csv(\"/Users/ncohmpli/Documents/Professionnel/Technical/Verification/Lirpa for IoU/manip/pipeline/lirpa_iou_pipeline/results/LARD/grrr.csv\")"
   ]
  },
  {
   "cell_type": "code",
   "execution_count": 153,
   "id": "a86403d5-a75f-45c0-aa81-d5dc1ba88e43",
   "metadata": {},
   "outputs": [],
   "source": [
    "df = df.loc[[0]].transpose().reset_index().drop(0)"
   ]
  },
  {
   "cell_type": "code",
   "execution_count": 156,
   "id": "1e5e715e-8d7b-451a-af8c-caf5a03a8013",
   "metadata": {},
   "outputs": [],
   "source": [
    "df = df.rename(columns={0:\"IoU_extension\"})"
   ]
  },
  {
   "cell_type": "code",
   "execution_count": 163,
   "id": "9cc5f970-1ae5-443a-a5a0-6528adfa8ad7",
   "metadata": {},
   "outputs": [],
   "source": [
    "df[\"index\"] = df[\"index\"].apply(lambda x: float(x))"
   ]
  },
  {
   "cell_type": "code",
   "execution_count": 166,
   "id": "051786fa-a562-4637-806c-275c7a56ede2",
   "metadata": {},
   "outputs": [
    {
     "data": {
      "application/vnd.plotly.v1+json": {
       "config": {
        "plotlyServerURL": "https://plot.ly"
       },
       "data": [
        {
         "alignmentgroup": "True",
         "hovertemplate": "index=%{x}<br>IoU_extension=%{y}<extra></extra>",
         "legendgroup": "",
         "marker": {
          "color": "#636efa",
          "pattern": {
           "shape": ""
          }
         },
         "name": "",
         "offsetgroup": "",
         "orientation": "v",
         "showlegend": false,
         "textposition": "auto",
         "type": "bar",
         "x": [
          0,
          1,
          2,
          3,
          4,
          5,
          6,
          7,
          8,
          9,
          10,
          11,
          12,
          13,
          14,
          15,
          16,
          17,
          18,
          19,
          20,
          21,
          22,
          23,
          24,
          25,
          26,
          27,
          28,
          29,
          30,
          31,
          32,
          33,
          34,
          35,
          36,
          37,
          38,
          39,
          40,
          41,
          42,
          43,
          44,
          45,
          46,
          47,
          48,
          49,
          50,
          51,
          52,
          53,
          54,
          55,
          56,
          57,
          58,
          59,
          60,
          61,
          62,
          63,
          64,
          65,
          66,
          67,
          68,
          69,
          70,
          71,
          72,
          73,
          74,
          75,
          76,
          77,
          78,
          79,
          80,
          81,
          82,
          83,
          84,
          85,
          86,
          87,
          88,
          89,
          90,
          91,
          92,
          93,
          94,
          95,
          96,
          97,
          98,
          99,
          100,
          101,
          102,
          103,
          104,
          105,
          106,
          107,
          108,
          109,
          110,
          111,
          112,
          113,
          114,
          115,
          116,
          117,
          118,
          119,
          120,
          121,
          122,
          123,
          124,
          125,
          126,
          127,
          128,
          129,
          130,
          131,
          132,
          133,
          134,
          135,
          136,
          137,
          138,
          139,
          140,
          141,
          142,
          143,
          144,
          145,
          146,
          147,
          148,
          149,
          150,
          151,
          152,
          153,
          154,
          155,
          156,
          157,
          158,
          159,
          160,
          161,
          162,
          163,
          164,
          165,
          166,
          167,
          168,
          169,
          170,
          171,
          172,
          173,
          174,
          175,
          176,
          177,
          178,
          179,
          180,
          181,
          182,
          183,
          184,
          185,
          186,
          187,
          188,
          189,
          190,
          191,
          192,
          193,
          194,
          195,
          196,
          197,
          198,
          199,
          200,
          201,
          202,
          203,
          204,
          205,
          206,
          207,
          208,
          209,
          210,
          211,
          212,
          213,
          214,
          215,
          216,
          217,
          218,
          219,
          220,
          221,
          222,
          223,
          224,
          225,
          226,
          227,
          228,
          229,
          230,
          231,
          232,
          233,
          234,
          235,
          236,
          237,
          238,
          239,
          240,
          241,
          242,
          243,
          244,
          245,
          246,
          247,
          248,
          249,
          250,
          251,
          252,
          253,
          254,
          255,
          256,
          257,
          258,
          259,
          260,
          261,
          262,
          263,
          264,
          265,
          266,
          267,
          268,
          269,
          270,
          271,
          272,
          273,
          274,
          275,
          276,
          277,
          278,
          279,
          280,
          281,
          282,
          283,
          284,
          285,
          286,
          287,
          288,
          289,
          290,
          291,
          292,
          293,
          294,
          295,
          296,
          297,
          298,
          299,
          300,
          301,
          302,
          303,
          304,
          305,
          306,
          307,
          308,
          309,
          310,
          311,
          312,
          313,
          314,
          315,
          316,
          317,
          318,
          319,
          320,
          321,
          322,
          323,
          324,
          325,
          326,
          327,
          328,
          329,
          330,
          331,
          332,
          333,
          334,
          335,
          336,
          337,
          338,
          339,
          340,
          341,
          342,
          343,
          344,
          345,
          346,
          347,
          348,
          349,
          350,
          351,
          352,
          353,
          354,
          355,
          356,
          357,
          358,
          359,
          360,
          361,
          362,
          363,
          364,
          365,
          366,
          367,
          368,
          369,
          370,
          371,
          372,
          373,
          374,
          375,
          376,
          377,
          378,
          379,
          380,
          381,
          382,
          383,
          384,
          385,
          386,
          387,
          388,
          389,
          390,
          391,
          392,
          394,
          395,
          396,
          397,
          398,
          399
         ],
         "xaxis": "x",
         "y": [
          0.14678722224014,
          0.1807395890097879,
          0.1077743627220867,
          0.1155678166191634,
          0.1370248521401396,
          0.1502073821555443,
          0.2007394962826877,
          0.1770550915306361,
          0.1020651849660035,
          0.1541514612177378,
          0.1984867971859799,
          0.2330518653843322,
          0.139739409969899,
          0.1140044556608589,
          0.1751957964318717,
          0.1820417508901202,
          0.2253739257360955,
          0.2264739991583966,
          0.1125776053801266,
          0.2758393579411507,
          0.1611126344749254,
          0.0742279213348882,
          0.2385319565057286,
          0.2278296837914969,
          0.1266499250764881,
          0.2017436873191407,
          0.1437230514005069,
          0.2219436333324823,
          0.249478768678538,
          0.143985100611658,
          0.1833573123430439,
          0.2850139049157912,
          0.2278351182248644,
          0.1913371112254636,
          0.1962493046774294,
          0.1378312470300122,
          0.2017034348552381,
          0.0918805054854436,
          0.2042994968385812,
          0.1584791158614595,
          0.231482963266496,
          0.2001037403734651,
          0.2341172554310172,
          0.1730286258286596,
          0.2804644957799385,
          0.1840745283920599,
          0.2956233432120539,
          0.3474695662498507,
          0.2049208377416239,
          0.1990647731622873,
          0.3183670287116017,
          0.2901799927326217,
          0.2309742951385539,
          0.1520390583541447,
          0.2363512606465128,
          0.2116633399971282,
          0.1847721109581865,
          0.2053954124829336,
          0.2618653039283287,
          0.2209789462160893,
          0.1535899421033741,
          0.232888670729404,
          0.1877182847090926,
          0.1566657255334523,
          0.1650508166700343,
          0.2104819228709439,
          0.1735813221875406,
          0.2290334056276949,
          0.1746884404967037,
          0.2336435149080631,
          0.2337833655944,
          0.1919358347755627,
          0.2797914309329866,
          0.1982520910592128,
          0.2957628614304584,
          0.2634553581019614,
          0.2636278668295731,
          0.1478669240364862,
          0.146887047705659,
          0.2284552803320607,
          0.3305839521571299,
          0.3794605730238065,
          0.2204683064068144,
          0.2419757114231944,
          0.3121015313659504,
          0.1763774723702229,
          0.2658076861976546,
          0.1851825592006713,
          0.3348885790182734,
          0.3301977140414867,
          0.3207691788512468,
          0.2278695270137646,
          0.3579780086892205,
          0.2522026726253683,
          0.2207525665132265,
          0.2482257868919345,
          0.2004775982903461,
          0.2992977623902596,
          0.1864530873596227,
          0.2634742213756522,
          0.2558997423010228,
          0.2214271536968765,
          0.3478578320203122,
          0.4029049200205541,
          0.3097313289732354,
          0.2633688051623836,
          0.3944093877184375,
          0.2511508209888611,
          0.302135585132243,
          0.2183329553350691,
          0.2605662125656073,
          0.3763603230980852,
          0.3935338926451998,
          0.2068351296570256,
          0.3290976395668715,
          0.2936521959290771,
          0.3897812577371629,
          0.3181929529033919,
          0.3553047907224322,
          0.3147583305296612,
          0.2989728095677244,
          0.1970160139264552,
          0.2242913547656537,
          0.357683034358306,
          0.3419299718772486,
          0.3395828082299195,
          0.3999008051429241,
          0.3250164013415888,
          0.4324736273271077,
          0.3512091360641758,
          0.2651419657899304,
          0.3196044664943547,
          0.2981512340452608,
          0.3173898564461218,
          0.4432431011572149,
          0.2407274548003207,
          0.2510510227100221,
          0.4270491880085672,
          0.332225295282912,
          0.320187677983705,
          0.3100207819360449,
          0.4346410196840872,
          0.3145821550755173,
          0.2495510228503717,
          0.429685833447385,
          0.3742741362275535,
          0.3143129075456451,
          0.2051712052266908,
          0.3266183123515258,
          0.2905970914717228,
          0.2822277076357591,
          0.3466096143921248,
          0.3662335254798018,
          0.3864822436133665,
          0.3350451261795311,
          0.4040941112711165,
          0.2261475799302378,
          0.330403226013191,
          0.3526983396671206,
          0.3611980167721618,
          0.3205406809727638,
          0.4051980770247112,
          0.3376335460137049,
          0.3683774655150593,
          0.464338252877475,
          0.4327579753271159,
          0.4266758959105794,
          0.353432775397796,
          0.2948876547937032,
          0.4203005997271041,
          0.4183544438873982,
          0.2864523651164147,
          0.3415643309913287,
          0.3266182275579982,
          0.358990323375297,
          0.3458766016122723,
          0.3121378206055906,
          0.3050435514797909,
          0.4168953074241314,
          0.4946131110194481,
          0.3215461088172765,
          0.363298472150063,
          0.3522794035052969,
          0.4347925463394828,
          0.4876944096124433,
          0.5623555100689104,
          0.385763287034224,
          0.4232578667002749,
          0.514623192664147,
          0.4747294446535047,
          0.4978078012411984,
          0.4614954923821371,
          0.497682518435789,
          0.4460553657753006,
          0.4416990964939312,
          0.470413423265823,
          0.3811293514363195,
          0.6517528930349197,
          0.5658859583437804,
          0.4471869994343528,
          0.4862644073336788,
          0.5013503492561018,
          0.6042456541206875,
          0.5787797155727263,
          0.5031814014016041,
          0.5396425741420082,
          0.5390166368637705,
          0.4300742058572888,
          0.4065012965535336,
          0.5882275391953597,
          0.5500499144312998,
          0.5633697719884347,
          0.6170777670529394,
          0.5807700244032349,
          0.6036700940893991,
          0.4830823741052281,
          0.622884309588249,
          0.5163347721827026,
          0.6890484967404426,
          0.4340903273232853,
          0.5353705975056274,
          0.5677217516614607,
          0.5352645520696491,
          0.4457628233021088,
          0.5980120974595093,
          0.4597371168838648,
          0.5525073860299039,
          0.55671132345718,
          0.4889821761879872,
          0.5950735709977379,
          0.5454598567432977,
          0.5636347377332,
          0.5336855895877852,
          0.538665855770488,
          0.5148489705151964,
          0.5003103395518056,
          0.4518970932884436,
          0.5148020912661746,
          0.480101779988382,
          0.5430579115040154,
          0.566357882912944,
          0.5596817118411175,
          0.576731641005674,
          0.5996450064751159,
          0.6281071370529735,
          0.5385902530680671,
          0.6750758659902514,
          0.5398085934865146,
          0.5384550395189692,
          0.5261887875462183,
          0.6787323450918759,
          0.5728330007135747,
          0.5872376261342991,
          0.5748311739644903,
          0.5432315665546902,
          0.6025217307507277,
          0.4972305530272363,
          0.4909166938410994,
          0.6586260075874576,
          0.5655375255505197,
          0.5840367120853487,
          0.5842781545024859,
          0.7038154387035631,
          0.7348972937218319,
          0.6098554506313226,
          0.6192342364471588,
          0.5669817671122934,
          0.615896800685817,
          0.501956817647615,
          0.5763216936652751,
          0.7153577657535976,
          0.658392442292256,
          0.5988479924831298,
          0.6573543651399372,
          0.5440196168593836,
          0.6159426116870838,
          0.5210874614655718,
          0.5518765227109848,
          0.531856801798919,
          0.6394854960970916,
          0.5186594946221137,
          0.5866335548588149,
          0.6417699007164498,
          0.5092816827122887,
          0.5468807707004315,
          0.6163735261923783,
          0.6335503920540808,
          0.593754552166068,
          0.5778805719797419,
          0.5686631200096527,
          0.7425887907360086,
          0.7375088192166375,
          0.6288214181066425,
          0.6040279211827716,
          0.5728540006779134,
          0.6607953720521723,
          0.6727331692413107,
          0.7134569854425242,
          0.6278293289514533,
          0.7112775154294275,
          0.6713261210915555,
          0.5514409389252031,
          0.5714712582603658,
          0.4656856673395532,
          0.6304413373147346,
          0.6599563826163942,
          0.596783775051153,
          0.6224294489364912,
          0.6445559399873015,
          0.5194617680043269,
          0.6681075125306707,
          0.5668393036325202,
          0.5512956172721659,
          0.595828389252859,
          0.6031105326649908,
          0.5993667926131261,
          0.6250907804930935,
          0.5943836318993878,
          0.5637027158067585,
          0.673231723511103,
          0.5853706865352937,
          0.6589257840923862,
          0.6591996464734777,
          0.5934172457073597,
          0.6222965865025939,
          0.612856135440483,
          0.6017953248220376,
          0.6349566396171485,
          0.6893489361375279,
          0.5967756487008522,
          0.6802591600089221,
          0.6138920071133687,
          0.6887814044999653,
          0.6011587750112143,
          0.7124844671077938,
          0.6568596689222365,
          0.7498136548007601,
          0.6385835274125526,
          0.6258569591614277,
          0.647236612622502,
          0.7624754893717436,
          0.6604433382280354,
          0.6817040247591574,
          0.6796766513704664,
          0.6800060532402374,
          0.6445302910970084,
          0.7159436455867517,
          0.6904582897282766,
          0.7377738837662156,
          0.6882931769159242,
          0.7525300345253169,
          0.7344583104817597,
          0.7158859387072412,
          0.7326261281526322,
          0.6637349816507669,
          0.7243729434177815,
          0.7068883275994178,
          0.724366253210534,
          0.7802822822955691,
          0.6727781231130049,
          0.7404895047209089,
          0.7555766985103294,
          0.7451872737730839,
          0.7666510224438418,
          0.7991108492724536,
          0.7364076122789646,
          0.7822367863015003,
          0.7861846444087497,
          0.8743298552537773,
          0.8746856195203346,
          0.8392682245509261,
          0.8487191570642635,
          0.9071532903225412,
          0.8797631325899212,
          0.9237187297917692,
          0.8484435593839025,
          0.8135349447756387,
          0.925098686728344,
          0.9402803337475624,
          0.9045309394559198,
          0.7926087361627904,
          0.8562461431255943,
          0.9117059999316612,
          0.8796568947446387,
          0.8342622139087779,
          0.8490083869764433,
          0.8789553840204609,
          0.9274629959498754,
          0.8783446633244183,
          0.8474630304077506,
          0.934544425343173,
          0.8523805975953583,
          0.8402781553190901,
          0.904192872436028,
          0.8511301401422162,
          0.8415378482538718,
          0.9337495529551744,
          0.9134551715291211,
          0.904610777124086
         ],
         "yaxis": "y"
        }
       ],
       "layout": {
        "autosize": true,
        "barmode": "relative",
        "legend": {
         "tracegroupgap": 0
        },
        "margin": {
         "t": 60
        },
        "shapes": [
         {
          "line": {
           "color": "red",
           "dash": "dash"
          },
          "type": "line",
          "x0": 0,
          "x1": 1,
          "xref": "x domain",
          "y0": 0.5,
          "y1": 0.5,
          "yref": "y"
         }
        ],
        "template": {
         "data": {
          "bar": [
           {
            "error_x": {
             "color": "#2a3f5f"
            },
            "error_y": {
             "color": "#2a3f5f"
            },
            "marker": {
             "line": {
              "color": "#E5ECF6",
              "width": 0.5
             },
             "pattern": {
              "fillmode": "overlay",
              "size": 10,
              "solidity": 0.2
             }
            },
            "type": "bar"
           }
          ],
          "barpolar": [
           {
            "marker": {
             "line": {
              "color": "#E5ECF6",
              "width": 0.5
             },
             "pattern": {
              "fillmode": "overlay",
              "size": 10,
              "solidity": 0.2
             }
            },
            "type": "barpolar"
           }
          ],
          "carpet": [
           {
            "aaxis": {
             "endlinecolor": "#2a3f5f",
             "gridcolor": "white",
             "linecolor": "white",
             "minorgridcolor": "white",
             "startlinecolor": "#2a3f5f"
            },
            "baxis": {
             "endlinecolor": "#2a3f5f",
             "gridcolor": "white",
             "linecolor": "white",
             "minorgridcolor": "white",
             "startlinecolor": "#2a3f5f"
            },
            "type": "carpet"
           }
          ],
          "choropleth": [
           {
            "colorbar": {
             "outlinewidth": 0,
             "ticks": ""
            },
            "type": "choropleth"
           }
          ],
          "contour": [
           {
            "colorbar": {
             "outlinewidth": 0,
             "ticks": ""
            },
            "colorscale": [
             [
              0,
              "#0d0887"
             ],
             [
              0.1111111111111111,
              "#46039f"
             ],
             [
              0.2222222222222222,
              "#7201a8"
             ],
             [
              0.3333333333333333,
              "#9c179e"
             ],
             [
              0.4444444444444444,
              "#bd3786"
             ],
             [
              0.5555555555555556,
              "#d8576b"
             ],
             [
              0.6666666666666666,
              "#ed7953"
             ],
             [
              0.7777777777777778,
              "#fb9f3a"
             ],
             [
              0.8888888888888888,
              "#fdca26"
             ],
             [
              1,
              "#f0f921"
             ]
            ],
            "type": "contour"
           }
          ],
          "contourcarpet": [
           {
            "colorbar": {
             "outlinewidth": 0,
             "ticks": ""
            },
            "type": "contourcarpet"
           }
          ],
          "heatmap": [
           {
            "colorbar": {
             "outlinewidth": 0,
             "ticks": ""
            },
            "colorscale": [
             [
              0,
              "#0d0887"
             ],
             [
              0.1111111111111111,
              "#46039f"
             ],
             [
              0.2222222222222222,
              "#7201a8"
             ],
             [
              0.3333333333333333,
              "#9c179e"
             ],
             [
              0.4444444444444444,
              "#bd3786"
             ],
             [
              0.5555555555555556,
              "#d8576b"
             ],
             [
              0.6666666666666666,
              "#ed7953"
             ],
             [
              0.7777777777777778,
              "#fb9f3a"
             ],
             [
              0.8888888888888888,
              "#fdca26"
             ],
             [
              1,
              "#f0f921"
             ]
            ],
            "type": "heatmap"
           }
          ],
          "heatmapgl": [
           {
            "colorbar": {
             "outlinewidth": 0,
             "ticks": ""
            },
            "colorscale": [
             [
              0,
              "#0d0887"
             ],
             [
              0.1111111111111111,
              "#46039f"
             ],
             [
              0.2222222222222222,
              "#7201a8"
             ],
             [
              0.3333333333333333,
              "#9c179e"
             ],
             [
              0.4444444444444444,
              "#bd3786"
             ],
             [
              0.5555555555555556,
              "#d8576b"
             ],
             [
              0.6666666666666666,
              "#ed7953"
             ],
             [
              0.7777777777777778,
              "#fb9f3a"
             ],
             [
              0.8888888888888888,
              "#fdca26"
             ],
             [
              1,
              "#f0f921"
             ]
            ],
            "type": "heatmapgl"
           }
          ],
          "histogram": [
           {
            "marker": {
             "pattern": {
              "fillmode": "overlay",
              "size": 10,
              "solidity": 0.2
             }
            },
            "type": "histogram"
           }
          ],
          "histogram2d": [
           {
            "colorbar": {
             "outlinewidth": 0,
             "ticks": ""
            },
            "colorscale": [
             [
              0,
              "#0d0887"
             ],
             [
              0.1111111111111111,
              "#46039f"
             ],
             [
              0.2222222222222222,
              "#7201a8"
             ],
             [
              0.3333333333333333,
              "#9c179e"
             ],
             [
              0.4444444444444444,
              "#bd3786"
             ],
             [
              0.5555555555555556,
              "#d8576b"
             ],
             [
              0.6666666666666666,
              "#ed7953"
             ],
             [
              0.7777777777777778,
              "#fb9f3a"
             ],
             [
              0.8888888888888888,
              "#fdca26"
             ],
             [
              1,
              "#f0f921"
             ]
            ],
            "type": "histogram2d"
           }
          ],
          "histogram2dcontour": [
           {
            "colorbar": {
             "outlinewidth": 0,
             "ticks": ""
            },
            "colorscale": [
             [
              0,
              "#0d0887"
             ],
             [
              0.1111111111111111,
              "#46039f"
             ],
             [
              0.2222222222222222,
              "#7201a8"
             ],
             [
              0.3333333333333333,
              "#9c179e"
             ],
             [
              0.4444444444444444,
              "#bd3786"
             ],
             [
              0.5555555555555556,
              "#d8576b"
             ],
             [
              0.6666666666666666,
              "#ed7953"
             ],
             [
              0.7777777777777778,
              "#fb9f3a"
             ],
             [
              0.8888888888888888,
              "#fdca26"
             ],
             [
              1,
              "#f0f921"
             ]
            ],
            "type": "histogram2dcontour"
           }
          ],
          "mesh3d": [
           {
            "colorbar": {
             "outlinewidth": 0,
             "ticks": ""
            },
            "type": "mesh3d"
           }
          ],
          "parcoords": [
           {
            "line": {
             "colorbar": {
              "outlinewidth": 0,
              "ticks": ""
             }
            },
            "type": "parcoords"
           }
          ],
          "pie": [
           {
            "automargin": true,
            "type": "pie"
           }
          ],
          "scatter": [
           {
            "fillpattern": {
             "fillmode": "overlay",
             "size": 10,
             "solidity": 0.2
            },
            "type": "scatter"
           }
          ],
          "scatter3d": [
           {
            "line": {
             "colorbar": {
              "outlinewidth": 0,
              "ticks": ""
             }
            },
            "marker": {
             "colorbar": {
              "outlinewidth": 0,
              "ticks": ""
             }
            },
            "type": "scatter3d"
           }
          ],
          "scattercarpet": [
           {
            "marker": {
             "colorbar": {
              "outlinewidth": 0,
              "ticks": ""
             }
            },
            "type": "scattercarpet"
           }
          ],
          "scattergeo": [
           {
            "marker": {
             "colorbar": {
              "outlinewidth": 0,
              "ticks": ""
             }
            },
            "type": "scattergeo"
           }
          ],
          "scattergl": [
           {
            "marker": {
             "colorbar": {
              "outlinewidth": 0,
              "ticks": ""
             }
            },
            "type": "scattergl"
           }
          ],
          "scattermapbox": [
           {
            "marker": {
             "colorbar": {
              "outlinewidth": 0,
              "ticks": ""
             }
            },
            "type": "scattermapbox"
           }
          ],
          "scatterpolar": [
           {
            "marker": {
             "colorbar": {
              "outlinewidth": 0,
              "ticks": ""
             }
            },
            "type": "scatterpolar"
           }
          ],
          "scatterpolargl": [
           {
            "marker": {
             "colorbar": {
              "outlinewidth": 0,
              "ticks": ""
             }
            },
            "type": "scatterpolargl"
           }
          ],
          "scatterternary": [
           {
            "marker": {
             "colorbar": {
              "outlinewidth": 0,
              "ticks": ""
             }
            },
            "type": "scatterternary"
           }
          ],
          "surface": [
           {
            "colorbar": {
             "outlinewidth": 0,
             "ticks": ""
            },
            "colorscale": [
             [
              0,
              "#0d0887"
             ],
             [
              0.1111111111111111,
              "#46039f"
             ],
             [
              0.2222222222222222,
              "#7201a8"
             ],
             [
              0.3333333333333333,
              "#9c179e"
             ],
             [
              0.4444444444444444,
              "#bd3786"
             ],
             [
              0.5555555555555556,
              "#d8576b"
             ],
             [
              0.6666666666666666,
              "#ed7953"
             ],
             [
              0.7777777777777778,
              "#fb9f3a"
             ],
             [
              0.8888888888888888,
              "#fdca26"
             ],
             [
              1,
              "#f0f921"
             ]
            ],
            "type": "surface"
           }
          ],
          "table": [
           {
            "cells": {
             "fill": {
              "color": "#EBF0F8"
             },
             "line": {
              "color": "white"
             }
            },
            "header": {
             "fill": {
              "color": "#C8D4E3"
             },
             "line": {
              "color": "white"
             }
            },
            "type": "table"
           }
          ]
         },
         "layout": {
          "annotationdefaults": {
           "arrowcolor": "#2a3f5f",
           "arrowhead": 0,
           "arrowwidth": 1
          },
          "autotypenumbers": "strict",
          "coloraxis": {
           "colorbar": {
            "outlinewidth": 0,
            "ticks": ""
           }
          },
          "colorscale": {
           "diverging": [
            [
             0,
             "#8e0152"
            ],
            [
             0.1,
             "#c51b7d"
            ],
            [
             0.2,
             "#de77ae"
            ],
            [
             0.3,
             "#f1b6da"
            ],
            [
             0.4,
             "#fde0ef"
            ],
            [
             0.5,
             "#f7f7f7"
            ],
            [
             0.6,
             "#e6f5d0"
            ],
            [
             0.7,
             "#b8e186"
            ],
            [
             0.8,
             "#7fbc41"
            ],
            [
             0.9,
             "#4d9221"
            ],
            [
             1,
             "#276419"
            ]
           ],
           "sequential": [
            [
             0,
             "#0d0887"
            ],
            [
             0.1111111111111111,
             "#46039f"
            ],
            [
             0.2222222222222222,
             "#7201a8"
            ],
            [
             0.3333333333333333,
             "#9c179e"
            ],
            [
             0.4444444444444444,
             "#bd3786"
            ],
            [
             0.5555555555555556,
             "#d8576b"
            ],
            [
             0.6666666666666666,
             "#ed7953"
            ],
            [
             0.7777777777777778,
             "#fb9f3a"
            ],
            [
             0.8888888888888888,
             "#fdca26"
            ],
            [
             1,
             "#f0f921"
            ]
           ],
           "sequentialminus": [
            [
             0,
             "#0d0887"
            ],
            [
             0.1111111111111111,
             "#46039f"
            ],
            [
             0.2222222222222222,
             "#7201a8"
            ],
            [
             0.3333333333333333,
             "#9c179e"
            ],
            [
             0.4444444444444444,
             "#bd3786"
            ],
            [
             0.5555555555555556,
             "#d8576b"
            ],
            [
             0.6666666666666666,
             "#ed7953"
            ],
            [
             0.7777777777777778,
             "#fb9f3a"
            ],
            [
             0.8888888888888888,
             "#fdca26"
            ],
            [
             1,
             "#f0f921"
            ]
           ]
          },
          "colorway": [
           "#636efa",
           "#EF553B",
           "#00cc96",
           "#ab63fa",
           "#FFA15A",
           "#19d3f3",
           "#FF6692",
           "#B6E880",
           "#FF97FF",
           "#FECB52"
          ],
          "font": {
           "color": "#2a3f5f"
          },
          "geo": {
           "bgcolor": "white",
           "lakecolor": "white",
           "landcolor": "#E5ECF6",
           "showlakes": true,
           "showland": true,
           "subunitcolor": "white"
          },
          "hoverlabel": {
           "align": "left"
          },
          "hovermode": "closest",
          "mapbox": {
           "style": "light"
          },
          "paper_bgcolor": "white",
          "plot_bgcolor": "#E5ECF6",
          "polar": {
           "angularaxis": {
            "gridcolor": "white",
            "linecolor": "white",
            "ticks": ""
           },
           "bgcolor": "#E5ECF6",
           "radialaxis": {
            "gridcolor": "white",
            "linecolor": "white",
            "ticks": ""
           }
          },
          "scene": {
           "xaxis": {
            "backgroundcolor": "#E5ECF6",
            "gridcolor": "white",
            "gridwidth": 2,
            "linecolor": "white",
            "showbackground": true,
            "ticks": "",
            "zerolinecolor": "white"
           },
           "yaxis": {
            "backgroundcolor": "#E5ECF6",
            "gridcolor": "white",
            "gridwidth": 2,
            "linecolor": "white",
            "showbackground": true,
            "ticks": "",
            "zerolinecolor": "white"
           },
           "zaxis": {
            "backgroundcolor": "#E5ECF6",
            "gridcolor": "white",
            "gridwidth": 2,
            "linecolor": "white",
            "showbackground": true,
            "ticks": "",
            "zerolinecolor": "white"
           }
          },
          "shapedefaults": {
           "line": {
            "color": "#2a3f5f"
           }
          },
          "ternary": {
           "aaxis": {
            "gridcolor": "white",
            "linecolor": "white",
            "ticks": ""
           },
           "baxis": {
            "gridcolor": "white",
            "linecolor": "white",
            "ticks": ""
           },
           "bgcolor": "#E5ECF6",
           "caxis": {
            "gridcolor": "white",
            "linecolor": "white",
            "ticks": ""
           }
          },
          "title": {
           "x": 0.05
          },
          "xaxis": {
           "automargin": true,
           "gridcolor": "white",
           "linecolor": "white",
           "ticks": "",
           "title": {
            "standoff": 15
           },
           "zerolinecolor": "white",
           "zerolinewidth": 2
          },
          "yaxis": {
           "automargin": true,
           "gridcolor": "white",
           "linecolor": "white",
           "ticks": "",
           "title": {
            "standoff": 15
           },
           "zerolinecolor": "white",
           "zerolinewidth": 2
          }
         }
        },
        "xaxis": {
         "anchor": "y",
         "autorange": true,
         "domain": [
          0,
          1
         ],
         "range": [
          -0.5,
          399.5
         ],
         "title": {
          "text": "index"
         },
         "type": "linear"
        },
        "yaxis": {
         "anchor": "x",
         "autorange": true,
         "domain": [
          0,
          1
         ],
         "range": [
          0,
          0.9897687723658551
         ],
         "title": {
          "text": "IoU_extension"
         },
         "type": "linear"
        }
       }
      },
      "image/png": "[encoded data removed]",
      "text/html": [
       "<div>                            <div id=\"2a236762-79c9-42d2-83ae-d5494d6918d1\" class=\"plotly-graph-div\" style=\"height:525px; width:100%;\"></div>            <script type=\"text/javascript\">                require([\"plotly\"], function(Plotly) {                    window.PLOTLYENV=window.PLOTLYENV || {};                                    if (document.getElementById(\"2a236762-79c9-42d2-83ae-d5494d6918d1\")) {                    Plotly.newPlot(                        \"2a236762-79c9-42d2-83ae-d5494d6918d1\",                        [{\"alignmentgroup\":\"True\",\"hovertemplate\":\"index=%{x}\\u003cbr\\u003eIoU_extension=%{y}\\u003cextra\\u003e\\u003c\\u002fextra\\u003e\",\"legendgroup\":\"\",\"marker\":{\"color\":\"#636efa\",\"pattern\":{\"shape\":\"\"}},\"name\":\"\",\"offsetgroup\":\"\",\"orientation\":\"v\",\"showlegend\":false,\"textposition\":\"auto\",\"x\":[0.0,1.0,2.0,3.0,4.0,5.0,6.0,7.0,8.0,9.0,10.0,11.0,12.0,13.0,14.0,15.0,16.0,17.0,18.0,19.0,20.0,21.0,22.0,23.0,24.0,25.0,26.0,27.0,28.0,29.0,30.0,31.0,32.0,33.0,34.0,35.0,36.0,37.0,38.0,39.0,40.0,41.0,42.0,43.0,44.0,45.0,46.0,47.0,48.0,49.0,50.0,51.0,52.0,53.0,54.0,55.0,56.0,57.0,58.0,59.0,60.0,61.0,62.0,63.0,64.0,65.0,66.0,67.0,68.0,69.0,70.0,71.0,72.0,73.0,74.0,75.0,76.0,77.0,78.0,79.0,80.0,81.0,82.0,83.0,84.0,85.0,86.0,87.0,88.0,89.0,90.0,91.0,92.0,93.0,94.0,95.0,96.0,97.0,98.0,99.0,100.0,101.0,102.0,103.0,104.0,105.0,106.0,107.0,108.0,109.0,110.0,111.0,112.0,113.0,114.0,115.0,116.0,117.0,118.0,119.0,120.0,121.0,122.0,123.0,124.0,125.0,126.0,127.0,128.0,129.0,130.0,131.0,132.0,133.0,134.0,135.0,136.0,137.0,138.0,139.0,140.0,141.0,142.0,143.0,144.0,145.0,146.0,147.0,148.0,149.0,150.0,151.0,152.0,153.0,154.0,155.0,156.0,157.0,158.0,159.0,160.0,161.0,162.0,163.0,164.0,165.0,166.0,167.0,168.0,169.0,170.0,171.0,172.0,173.0,174.0,175.0,176.0,177.0,178.0,179.0,180.0,181.0,182.0,183.0,184.0,185.0,186.0,187.0,188.0,189.0,190.0,191.0,192.0,193.0,194.0,195.0,196.0,197.0,198.0,199.0,200.0,201.0,202.0,203.0,204.0,205.0,206.0,207.0,208.0,209.0,210.0,211.0,212.0,213.0,214.0,215.0,216.0,217.0,218.0,219.0,220.0,221.0,222.0,223.0,224.0,225.0,226.0,227.0,228.0,229.0,230.0,231.0,232.0,233.0,234.0,235.0,236.0,237.0,238.0,239.0,240.0,241.0,242.0,243.0,244.0,245.0,246.0,247.0,248.0,249.0,250.0,251.0,252.0,253.0,254.0,255.0,256.0,257.0,258.0,259.0,260.0,261.0,262.0,263.0,264.0,265.0,266.0,267.0,268.0,269.0,270.0,271.0,272.0,273.0,274.0,275.0,276.0,277.0,278.0,279.0,280.0,281.0,282.0,283.0,284.0,285.0,286.0,287.0,288.0,289.0,290.0,291.0,292.0,293.0,294.0,295.0,296.0,297.0,298.0,299.0,300.0,301.0,302.0,303.0,304.0,305.0,306.0,307.0,308.0,309.0,310.0,311.0,312.0,313.0,314.0,315.0,316.0,317.0,318.0,319.0,320.0,321.0,322.0,323.0,324.0,325.0,326.0,327.0,328.0,329.0,330.0,331.0,332.0,333.0,334.0,335.0,336.0,337.0,338.0,339.0,340.0,341.0,342.0,343.0,344.0,345.0,346.0,347.0,348.0,349.0,350.0,351.0,352.0,353.0,354.0,355.0,356.0,357.0,358.0,359.0,360.0,361.0,362.0,363.0,364.0,365.0,366.0,367.0,368.0,369.0,370.0,371.0,372.0,373.0,374.0,375.0,376.0,377.0,378.0,379.0,380.0,381.0,382.0,383.0,384.0,385.0,386.0,387.0,388.0,389.0,390.0,391.0,392.0,394.0,395.0,396.0,397.0,398.0,399.0],\"xaxis\":\"x\",\"y\":[0.14678722224014,0.1807395890097879,0.1077743627220867,0.1155678166191634,0.1370248521401396,0.1502073821555443,0.2007394962826877,0.1770550915306361,0.1020651849660035,0.1541514612177378,0.1984867971859799,0.2330518653843322,0.139739409969899,0.1140044556608589,0.1751957964318717,0.1820417508901202,0.2253739257360955,0.2264739991583966,0.1125776053801266,0.2758393579411507,0.1611126344749254,0.0742279213348882,0.2385319565057286,0.2278296837914969,0.1266499250764881,0.2017436873191407,0.1437230514005069,0.2219436333324823,0.249478768678538,0.143985100611658,0.1833573123430439,0.2850139049157912,0.2278351182248644,0.1913371112254636,0.1962493046774294,0.1378312470300122,0.2017034348552381,0.0918805054854436,0.2042994968385812,0.1584791158614595,0.231482963266496,0.2001037403734651,0.2341172554310172,0.1730286258286596,0.2804644957799385,0.1840745283920599,0.2956233432120539,0.3474695662498507,0.2049208377416239,0.1990647731622873,0.3183670287116017,0.2901799927326217,0.2309742951385539,0.1520390583541447,0.2363512606465128,0.2116633399971282,0.1847721109581865,0.2053954124829336,0.2618653039283287,0.2209789462160893,0.1535899421033741,0.232888670729404,0.1877182847090926,0.1566657255334523,0.1650508166700343,0.2104819228709439,0.1735813221875406,0.2290334056276949,0.1746884404967037,0.2336435149080631,0.2337833655944,0.1919358347755627,0.2797914309329866,0.1982520910592128,0.2957628614304584,0.2634553581019614,0.2636278668295731,0.1478669240364862,0.146887047705659,0.2284552803320607,0.3305839521571299,0.3794605730238065,0.2204683064068144,0.2419757114231944,0.3121015313659504,0.1763774723702229,0.2658076861976546,0.1851825592006713,0.3348885790182734,0.3301977140414867,0.3207691788512468,0.2278695270137646,0.3579780086892205,0.2522026726253683,0.2207525665132265,0.2482257868919345,0.2004775982903461,0.2992977623902596,0.1864530873596227,0.2634742213756522,0.2558997423010228,0.2214271536968765,0.3478578320203122,0.4029049200205541,0.3097313289732354,0.2633688051623836,0.3944093877184375,0.2511508209888611,0.302135585132243,0.2183329553350691,0.2605662125656073,0.3763603230980852,0.3935338926451998,0.2068351296570256,0.3290976395668715,0.2936521959290771,0.3897812577371629,0.3181929529033919,0.3553047907224322,0.3147583305296612,0.2989728095677244,0.1970160139264552,0.2242913547656537,0.357683034358306,0.3419299718772486,0.3395828082299195,0.3999008051429241,0.3250164013415888,0.4324736273271077,0.3512091360641758,0.2651419657899304,0.3196044664943547,0.2981512340452608,0.3173898564461218,0.4432431011572149,0.2407274548003207,0.2510510227100221,0.4270491880085672,0.332225295282912,0.320187677983705,0.3100207819360449,0.4346410196840872,0.3145821550755173,0.2495510228503717,0.429685833447385,0.3742741362275535,0.3143129075456451,0.2051712052266908,0.3266183123515258,0.2905970914717228,0.2822277076357591,0.3466096143921248,0.3662335254798018,0.3864822436133665,0.3350451261795311,0.4040941112711165,0.2261475799302378,0.330403226013191,0.3526983396671206,0.3611980167721618,0.3205406809727638,0.4051980770247112,0.3376335460137049,0.3683774655150593,0.464338252877475,0.4327579753271159,0.4266758959105794,0.353432775397796,0.2948876547937032,0.4203005997271041,0.4183544438873982,0.2864523651164147,0.3415643309913287,0.3266182275579982,0.358990323375297,0.3458766016122723,0.3121378206055906,0.3050435514797909,0.4168953074241314,0.4946131110194481,0.3215461088172765,0.363298472150063,0.3522794035052969,0.4347925463394828,0.4876944096124433,0.5623555100689104,0.385763287034224,0.4232578667002749,0.514623192664147,0.4747294446535047,0.4978078012411984,0.4614954923821371,0.497682518435789,0.4460553657753006,0.4416990964939312,0.470413423265823,0.3811293514363195,0.6517528930349197,0.5658859583437804,0.4471869994343528,0.4862644073336788,0.5013503492561018,0.6042456541206875,0.5787797155727263,0.5031814014016041,0.5396425741420082,0.5390166368637705,0.4300742058572888,0.4065012965535336,0.5882275391953597,0.5500499144312998,0.5633697719884347,0.6170777670529394,0.5807700244032349,0.6036700940893991,0.4830823741052281,0.622884309588249,0.5163347721827026,0.6890484967404426,0.4340903273232853,0.5353705975056274,0.5677217516614607,0.5352645520696491,0.4457628233021088,0.5980120974595093,0.4597371168838648,0.5525073860299039,0.55671132345718,0.4889821761879872,0.5950735709977379,0.5454598567432977,0.5636347377332,0.5336855895877852,0.538665855770488,0.5148489705151964,0.5003103395518056,0.4518970932884436,0.5148020912661746,0.480101779988382,0.5430579115040154,0.566357882912944,0.5596817118411175,0.576731641005674,0.5996450064751159,0.6281071370529735,0.5385902530680671,0.6750758659902514,0.5398085934865146,0.5384550395189692,0.5261887875462183,0.6787323450918759,0.5728330007135747,0.5872376261342991,0.5748311739644903,0.5432315665546902,0.6025217307507277,0.4972305530272363,0.4909166938410994,0.6586260075874576,0.5655375255505197,0.5840367120853487,0.5842781545024859,0.7038154387035631,0.7348972937218319,0.6098554506313226,0.6192342364471588,0.5669817671122934,0.615896800685817,0.501956817647615,0.5763216936652751,0.7153577657535976,0.658392442292256,0.5988479924831298,0.6573543651399372,0.5440196168593836,0.6159426116870838,0.5210874614655718,0.5518765227109848,0.531856801798919,0.6394854960970916,0.5186594946221137,0.5866335548588149,0.6417699007164498,0.5092816827122887,0.5468807707004315,0.6163735261923783,0.6335503920540808,0.593754552166068,0.5778805719797419,0.5686631200096527,0.7425887907360086,0.7375088192166375,0.6288214181066425,0.6040279211827716,0.5728540006779134,0.6607953720521723,0.6727331692413107,0.7134569854425242,0.6278293289514533,0.7112775154294275,0.6713261210915555,0.5514409389252031,0.5714712582603658,0.4656856673395532,0.6304413373147346,0.6599563826163942,0.596783775051153,0.6224294489364912,0.6445559399873015,0.5194617680043269,0.6681075125306707,0.5668393036325202,0.5512956172721659,0.595828389252859,0.6031105326649908,0.5993667926131261,0.6250907804930935,0.5943836318993878,0.5637027158067585,0.673231723511103,0.5853706865352937,0.6589257840923862,0.6591996464734777,0.5934172457073597,0.6222965865025939,0.612856135440483,0.6017953248220376,0.6349566396171485,0.6893489361375279,0.5967756487008522,0.6802591600089221,0.6138920071133687,0.6887814044999653,0.6011587750112143,0.7124844671077938,0.6568596689222365,0.7498136548007601,0.6385835274125526,0.6258569591614277,0.647236612622502,0.7624754893717436,0.6604433382280354,0.6817040247591574,0.6796766513704664,0.6800060532402374,0.6445302910970084,0.7159436455867517,0.6904582897282766,0.7377738837662156,0.6882931769159242,0.7525300345253169,0.7344583104817597,0.7158859387072412,0.7326261281526322,0.6637349816507669,0.7243729434177815,0.7068883275994178,0.724366253210534,0.7802822822955691,0.6727781231130049,0.7404895047209089,0.7555766985103294,0.7451872737730839,0.7666510224438418,0.7991108492724536,0.7364076122789646,0.7822367863015003,0.7861846444087497,0.8743298552537773,0.8746856195203346,0.8392682245509261,0.8487191570642635,0.9071532903225412,0.8797631325899212,0.9237187297917692,0.8484435593839025,0.8135349447756387,0.925098686728344,0.9402803337475624,0.9045309394559198,0.7926087361627904,0.8562461431255943,0.9117059999316612,0.8796568947446387,0.8342622139087779,0.8490083869764433,0.8789553840204609,0.9274629959498754,0.8783446633244183,0.8474630304077506,0.934544425343173,0.8523805975953583,0.8402781553190901,0.904192872436028,0.8511301401422162,0.8415378482538718,0.9337495529551744,0.9134551715291211,0.904610777124086],\"yaxis\":\"y\",\"type\":\"bar\"}],                        {\"template\":{\"data\":{\"histogram2dcontour\":[{\"type\":\"histogram2dcontour\",\"colorbar\":{\"outlinewidth\":0,\"ticks\":\"\"},\"colorscale\":[[0.0,\"#0d0887\"],[0.1111111111111111,\"#46039f\"],[0.2222222222222222,\"#7201a8\"],[0.3333333333333333,\"#9c179e\"],[0.4444444444444444,\"#bd3786\"],[0.5555555555555556,\"#d8576b\"],[0.6666666666666666,\"#ed7953\"],[0.7777777777777778,\"#fb9f3a\"],[0.8888888888888888,\"#fdca26\"],[1.0,\"#f0f921\"]]}],\"choropleth\":[{\"type\":\"choropleth\",\"colorbar\":{\"outlinewidth\":0,\"ticks\":\"\"}}],\"histogram2d\":[{\"type\":\"histogram2d\",\"colorbar\":{\"outlinewidth\":0,\"ticks\":\"\"},\"colorscale\":[[0.0,\"#0d0887\"],[0.1111111111111111,\"#46039f\"],[0.2222222222222222,\"#7201a8\"],[0.3333333333333333,\"#9c179e\"],[0.4444444444444444,\"#bd3786\"],[0.5555555555555556,\"#d8576b\"],[0.6666666666666666,\"#ed7953\"],[0.7777777777777778,\"#fb9f3a\"],[0.8888888888888888,\"#fdca26\"],[1.0,\"#f0f921\"]]}],\"heatmap\":[{\"type\":\"heatmap\",\"colorbar\":{\"outlinewidth\":0,\"ticks\":\"\"},\"colorscale\":[[0.0,\"#0d0887\"],[0.1111111111111111,\"#46039f\"],[0.2222222222222222,\"#7201a8\"],[0.3333333333333333,\"#9c179e\"],[0.4444444444444444,\"#bd3786\"],[0.5555555555555556,\"#d8576b\"],[0.6666666666666666,\"#ed7953\"],[0.7777777777777778,\"#fb9f3a\"],[0.8888888888888888,\"#fdca26\"],[1.0,\"#f0f921\"]]}],\"heatmapgl\":[{\"type\":\"heatmapgl\",\"colorbar\":{\"outlinewidth\":0,\"ticks\":\"\"},\"colorscale\":[[0.0,\"#0d0887\"],[0.1111111111111111,\"#46039f\"],[0.2222222222222222,\"#7201a8\"],[0.3333333333333333,\"#9c179e\"],[0.4444444444444444,\"#bd3786\"],[0.5555555555555556,\"#d8576b\"],[0.6666666666666666,\"#ed7953\"],[0.7777777777777778,\"#fb9f3a\"],[0.8888888888888888,\"#fdca26\"],[1.0,\"#f0f921\"]]}],\"contourcarpet\":[{\"type\":\"contourcarpet\",\"colorbar\":{\"outlinewidth\":0,\"ticks\":\"\"}}],\"contour\":[{\"type\":\"contour\",\"colorbar\":{\"outlinewidth\":0,\"ticks\":\"\"},\"colorscale\":[[0.0,\"#0d0887\"],[0.1111111111111111,\"#46039f\"],[0.2222222222222222,\"#7201a8\"],[0.3333333333333333,\"#9c179e\"],[0.4444444444444444,\"#bd3786\"],[0.5555555555555556,\"#d8576b\"],[0.6666666666666666,\"#ed7953\"],[0.7777777777777778,\"#fb9f3a\"],[0.8888888888888888,\"#fdca26\"],[1.0,\"#f0f921\"]]}],\"surface\":[{\"type\":\"surface\",\"colorbar\":{\"outlinewidth\":0,\"ticks\":\"\"},\"colorscale\":[[0.0,\"#0d0887\"],[0.1111111111111111,\"#46039f\"],[0.2222222222222222,\"#7201a8\"],[0.3333333333333333,\"#9c179e\"],[0.4444444444444444,\"#bd3786\"],[0.5555555555555556,\"#d8576b\"],[0.6666666666666666,\"#ed7953\"],[0.7777777777777778,\"#fb9f3a\"],[0.8888888888888888,\"#fdca26\"],[1.0,\"#f0f921\"]]}],\"mesh3d\":[{\"type\":\"mesh3d\",\"colorbar\":{\"outlinewidth\":0,\"ticks\":\"\"}}],\"scatter\":[{\"fillpattern\":{\"fillmode\":\"overlay\",\"size\":10,\"solidity\":0.2},\"type\":\"scatter\"}],\"parcoords\":[{\"type\":\"parcoords\",\"line\":{\"colorbar\":{\"outlinewidth\":0,\"ticks\":\"\"}}}],\"scatterpolargl\":[{\"type\":\"scatterpolargl\",\"marker\":{\"colorbar\":{\"outlinewidth\":0,\"ticks\":\"\"}}}],\"bar\":[{\"error_x\":{\"color\":\"#2a3f5f\"},\"error_y\":{\"color\":\"#2a3f5f\"},\"marker\":{\"line\":{\"color\":\"#E5ECF6\",\"width\":0.5},\"pattern\":{\"fillmode\":\"overlay\",\"size\":10,\"solidity\":0.2}},\"type\":\"bar\"}],\"scattergeo\":[{\"type\":\"scattergeo\",\"marker\":{\"colorbar\":{\"outlinewidth\":0,\"ticks\":\"\"}}}],\"scatterpolar\":[{\"type\":\"scatterpolar\",\"marker\":{\"colorbar\":{\"outlinewidth\":0,\"ticks\":\"\"}}}],\"histogram\":[{\"marker\":{\"pattern\":{\"fillmode\":\"overlay\",\"size\":10,\"solidity\":0.2}},\"type\":\"histogram\"}],\"scattergl\":[{\"type\":\"scattergl\",\"marker\":{\"colorbar\":{\"outlinewidth\":0,\"ticks\":\"\"}}}],\"scatter3d\":[{\"type\":\"scatter3d\",\"line\":{\"colorbar\":{\"outlinewidth\":0,\"ticks\":\"\"}},\"marker\":{\"colorbar\":{\"outlinewidth\":0,\"ticks\":\"\"}}}],\"scattermapbox\":[{\"type\":\"scattermapbox\",\"marker\":{\"colorbar\":{\"outlinewidth\":0,\"ticks\":\"\"}}}],\"scatterternary\":[{\"type\":\"scatterternary\",\"marker\":{\"colorbar\":{\"outlinewidth\":0,\"ticks\":\"\"}}}],\"scattercarpet\":[{\"type\":\"scattercarpet\",\"marker\":{\"colorbar\":{\"outlinewidth\":0,\"ticks\":\"\"}}}],\"carpet\":[{\"aaxis\":{\"endlinecolor\":\"#2a3f5f\",\"gridcolor\":\"white\",\"linecolor\":\"white\",\"minorgridcolor\":\"white\",\"startlinecolor\":\"#2a3f5f\"},\"baxis\":{\"endlinecolor\":\"#2a3f5f\",\"gridcolor\":\"white\",\"linecolor\":\"white\",\"minorgridcolor\":\"white\",\"startlinecolor\":\"#2a3f5f\"},\"type\":\"carpet\"}],\"table\":[{\"cells\":{\"fill\":{\"color\":\"#EBF0F8\"},\"line\":{\"color\":\"white\"}},\"header\":{\"fill\":{\"color\":\"#C8D4E3\"},\"line\":{\"color\":\"white\"}},\"type\":\"table\"}],\"barpolar\":[{\"marker\":{\"line\":{\"color\":\"#E5ECF6\",\"width\":0.5},\"pattern\":{\"fillmode\":\"overlay\",\"size\":10,\"solidity\":0.2}},\"type\":\"barpolar\"}],\"pie\":[{\"automargin\":true,\"type\":\"pie\"}]},\"layout\":{\"autotypenumbers\":\"strict\",\"colorway\":[\"#636efa\",\"#EF553B\",\"#00cc96\",\"#ab63fa\",\"#FFA15A\",\"#19d3f3\",\"#FF6692\",\"#B6E880\",\"#FF97FF\",\"#FECB52\"],\"font\":{\"color\":\"#2a3f5f\"},\"hovermode\":\"closest\",\"hoverlabel\":{\"align\":\"left\"},\"paper_bgcolor\":\"white\",\"plot_bgcolor\":\"#E5ECF6\",\"polar\":{\"bgcolor\":\"#E5ECF6\",\"angularaxis\":{\"gridcolor\":\"white\",\"linecolor\":\"white\",\"ticks\":\"\"},\"radialaxis\":{\"gridcolor\":\"white\",\"linecolor\":\"white\",\"ticks\":\"\"}},\"ternary\":{\"bgcolor\":\"#E5ECF6\",\"aaxis\":{\"gridcolor\":\"white\",\"linecolor\":\"white\",\"ticks\":\"\"},\"baxis\":{\"gridcolor\":\"white\",\"linecolor\":\"white\",\"ticks\":\"\"},\"caxis\":{\"gridcolor\":\"white\",\"linecolor\":\"white\",\"ticks\":\"\"}},\"coloraxis\":{\"colorbar\":{\"outlinewidth\":0,\"ticks\":\"\"}},\"colorscale\":{\"sequential\":[[0.0,\"#0d0887\"],[0.1111111111111111,\"#46039f\"],[0.2222222222222222,\"#7201a8\"],[0.3333333333333333,\"#9c179e\"],[0.4444444444444444,\"#bd3786\"],[0.5555555555555556,\"#d8576b\"],[0.6666666666666666,\"#ed7953\"],[0.7777777777777778,\"#fb9f3a\"],[0.8888888888888888,\"#fdca26\"],[1.0,\"#f0f921\"]],\"sequentialminus\":[[0.0,\"#0d0887\"],[0.1111111111111111,\"#46039f\"],[0.2222222222222222,\"#7201a8\"],[0.3333333333333333,\"#9c179e\"],[0.4444444444444444,\"#bd3786\"],[0.5555555555555556,\"#d8576b\"],[0.6666666666666666,\"#ed7953\"],[0.7777777777777778,\"#fb9f3a\"],[0.8888888888888888,\"#fdca26\"],[1.0,\"#f0f921\"]],\"diverging\":[[0,\"#8e0152\"],[0.1,\"#c51b7d\"],[0.2,\"#de77ae\"],[0.3,\"#f1b6da\"],[0.4,\"#fde0ef\"],[0.5,\"#f7f7f7\"],[0.6,\"#e6f5d0\"],[0.7,\"#b8e186\"],[0.8,\"#7fbc41\"],[0.9,\"#4d9221\"],[1,\"#276419\"]]},\"xaxis\":{\"gridcolor\":\"white\",\"linecolor\":\"white\",\"ticks\":\"\",\"title\":{\"standoff\":15},\"zerolinecolor\":\"white\",\"automargin\":true,\"zerolinewidth\":2},\"yaxis\":{\"gridcolor\":\"white\",\"linecolor\":\"white\",\"ticks\":\"\",\"title\":{\"standoff\":15},\"zerolinecolor\":\"white\",\"automargin\":true,\"zerolinewidth\":2},\"scene\":{\"xaxis\":{\"backgroundcolor\":\"#E5ECF6\",\"gridcolor\":\"white\",\"linecolor\":\"white\",\"showbackground\":true,\"ticks\":\"\",\"zerolinecolor\":\"white\",\"gridwidth\":2},\"yaxis\":{\"backgroundcolor\":\"#E5ECF6\",\"gridcolor\":\"white\",\"linecolor\":\"white\",\"showbackground\":true,\"ticks\":\"\",\"zerolinecolor\":\"white\",\"gridwidth\":2},\"zaxis\":{\"backgroundcolor\":\"#E5ECF6\",\"gridcolor\":\"white\",\"linecolor\":\"white\",\"showbackground\":true,\"ticks\":\"\",\"zerolinecolor\":\"white\",\"gridwidth\":2}},\"shapedefaults\":{\"line\":{\"color\":\"#2a3f5f\"}},\"annotationdefaults\":{\"arrowcolor\":\"#2a3f5f\",\"arrowhead\":0,\"arrowwidth\":1},\"geo\":{\"bgcolor\":\"white\",\"landcolor\":\"#E5ECF6\",\"subunitcolor\":\"white\",\"showland\":true,\"showlakes\":true,\"lakecolor\":\"white\"},\"title\":{\"x\":0.05},\"mapbox\":{\"style\":\"light\"}}},\"xaxis\":{\"anchor\":\"y\",\"domain\":[0.0,1.0],\"title\":{\"text\":\"index\"}},\"yaxis\":{\"anchor\":\"x\",\"domain\":[0.0,1.0],\"title\":{\"text\":\"IoU_extension\"}},\"legend\":{\"tracegroupgap\":0},\"margin\":{\"t\":60},\"barmode\":\"relative\",\"shapes\":[{\"line\":{\"color\":\"red\",\"dash\":\"dash\"},\"type\":\"line\",\"x0\":0,\"x1\":1,\"xref\":\"x domain\",\"y0\":0.5,\"y1\":0.5,\"yref\":\"y\"}]},                        {\"responsive\": true}                    ).then(function(){\n",
       "                            \n",
       "var gd = document.getElementById('2a236762-79c9-42d2-83ae-d5494d6918d1');\n",
       "var x = new MutationObserver(function (mutations, observer) {{\n",
       "        var display = window.getComputedStyle(gd).display;\n",
       "        if (!display || display === 'none') {{\n",
       "            console.log([gd, 'removed!']);\n",
       "            Plotly.purge(gd);\n",
       "            observer.disconnect();\n",
       "        }}\n",
       "}});\n",
       "\n",
       "// Listen for the removal of the full notebook cells\n",
       "var notebookContainer = gd.closest('#notebook-container');\n",
       "if (notebookContainer) {{\n",
       "    x.observe(notebookContainer, {childList: true});\n",
       "}}\n",
       "\n",
       "// Listen for the clearing of the current output cell\n",
       "var outputEl = gd.closest('.output');\n",
       "if (outputEl) {{\n",
       "    x.observe(outputEl, {childList: true});\n",
       "}}\n",
       "\n",
       "                        })                };                });            </script>        </div>"
      ]
     },
     "metadata": {},
     "output_type": "display_data"
    }
   ],
   "source": [
    "import plotly.express as px\n",
    "fig = px.bar(df, x=\"index\", y=\"IoU_extension\")\n",
    "fig.add_hline(y=0.5, line_dash=\"dash\", line_color=\"red\")\n",
    "fig.show()"
   ]
  },
  {
   "cell_type": "code",
   "execution_count": null,
   "id": "dc9bd2ef-169c-4f36-b939-155dcf545a86",
   "metadata": {},
   "outputs": [],
   "source": []
  }
 ],
 "metadata": {
  "kernelspec": {
   "display_name": "Python 3 (ipykernel)",
   "language": "python",
   "name": "python3"
  },
  "language_info": {
   "codemirror_mode": {
    "name": "ipython",
    "version": 3
   },
   "file_extension": ".py",
   "mimetype": "text/x-python",
   "name": "python",
   "nbconvert_exporter": "python",
   "pygments_lexer": "ipython3",
   "version": "3.9.17"
  }
 },
 "nbformat": 4,
 "nbformat_minor": 5
}
